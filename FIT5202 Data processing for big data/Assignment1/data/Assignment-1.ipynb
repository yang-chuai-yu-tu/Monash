{
 "cells": [
  {
   "cell_type": "markdown",
   "metadata": {},
   "source": [
    "# Part A : Working with RDDs and DataFrames\n",
    "\n",
    "## 1. Working with RDD\n",
    "## 1.1 Data Preparation and Loading"
   ]
  },
  {
   "cell_type": "markdown",
   "metadata": {},
   "source": [
    "### 1.Write the code to create a SparkContext object using SparkSession"
   ]
  },
  {
   "cell_type": "code",
   "execution_count": 1,
   "metadata": {},
   "outputs": [],
   "source": [
    "from pyspark import SparkConf\n",
    "from pyspark.sql import SparkSession\n",
    "from pyspark import SparkContext\n",
    "\n",
    "master = \"local[*]\"\n",
    "app_name = \"Assignment-1\"\n",
    "sparkconf = SparkConf().setMaster(master).setAppName(app_name)\n",
    "\n",
    "spark = SparkSession.builder.config(conf = sparkconf).getOrCreate()\n",
    "sc = spark.sparkContext\n",
    "sc.setLogLevel(\"ERROR\")"
   ]
  },
  {
   "cell_type": "markdown",
   "metadata": {},
   "source": [
    "### 2. Import all the “Units” csv files from 2015-2019 into a single RDD.\n",
    "### 3. Import all the “Crashes” csv files from 2015-2019 into a single RDD. \n",
    "### 4. For each Units and Crashes RDDs, remove the header rows and display the total count and first 10 records. Hint : You can use csv.reader to parse rowsin RDDs."
   ]
  },
  {
   "cell_type": "code",
   "execution_count": 2,
   "metadata": {},
   "outputs": [
    {
     "data": {
      "text/plain": [
       "153854"
      ]
     },
     "execution_count": 2,
     "metadata": {},
     "output_type": "execute_result"
    }
   ],
   "source": [
    "# Read all the units_csv file and load into an RDD object\n",
    "units_rdd = sc.textFile(\"./*_Units.csv\")\n",
    "data_list = units_rdd.map(lambda line: line.replace('\"', '').split(\",\") )\n",
    "\n",
    "# First find out the content of the header line\n",
    "header = data_list.first()\n",
    "# Then use filter to filter all header lines\n",
    "units_rdd = data_list.filter(lambda line: line != header)\n",
    "\n",
    "units_rdd.count()"
   ]
  },
  {
   "cell_type": "code",
   "execution_count": 3,
   "metadata": {},
   "outputs": [
    {
     "data": {
      "text/plain": [
       "[['2015-1-21/08/2019',\n",
       "  '01',\n",
       "  '0',\n",
       "  'SA',\n",
       "  'RIGID TRUCK LGE GE 4.5T',\n",
       "  '1999',\n",
       "  'North East',\n",
       "  'Male',\n",
       "  '052',\n",
       "  'SA',\n",
       "  'HRR ',\n",
       "  'Full',\n",
       "  'Not Towing',\n",
       "  'Swerving',\n",
       "  '001',\n",
       "  '5109',\n",
       "  '',\n",
       "  ''],\n",
       " ['2015-1-21/08/2019',\n",
       "  '02',\n",
       "  '1',\n",
       "  'SA',\n",
       "  'Motor Cars - Sedan',\n",
       "  '2009',\n",
       "  'North East',\n",
       "  'Female',\n",
       "  '057',\n",
       "  'SA',\n",
       "  'C ',\n",
       "  'Full',\n",
       "  'Not Towing',\n",
       "  'Straight Ahead',\n",
       "  '002',\n",
       "  '5125',\n",
       "  '',\n",
       "  ''],\n",
       " ['2015-2-21/08/2019',\n",
       "  '01',\n",
       "  '0',\n",
       "  'SA',\n",
       "  'Motor Cars - Sedan',\n",
       "  '2009',\n",
       "  'South East',\n",
       "  'Male',\n",
       "  '020',\n",
       "  'SA',\n",
       "  'MR',\n",
       "  'Provisional 1 ',\n",
       "  'Not Towing',\n",
       "  'Straight Ahead',\n",
       "  '001',\n",
       "  '5110',\n",
       "  '',\n",
       "  ''],\n",
       " ['2015-2-21/08/2019',\n",
       "  '02',\n",
       "  '1',\n",
       "  'SA',\n",
       "  'Motor Cars - Sedan',\n",
       "  '1994',\n",
       "  'South East',\n",
       "  'Female',\n",
       "  '021',\n",
       "  'SA',\n",
       "  'C ',\n",
       "  'Full',\n",
       "  'Not Towing',\n",
       "  'Stopped on Carriageway',\n",
       "  '001',\n",
       "  '5096',\n",
       "  '',\n",
       "  ''],\n",
       " ['2015-3-21/08/2019',\n",
       "  '01',\n",
       "  '0',\n",
       "  'SA',\n",
       "  'Motor Cars - Sedan',\n",
       "  '2008',\n",
       "  'North East',\n",
       "  'Male',\n",
       "  '023',\n",
       "  'SA',\n",
       "  'C ',\n",
       "  'Full',\n",
       "  'Not Towing',\n",
       "  'Straight Ahead',\n",
       "  '001',\n",
       "  '5034',\n",
       "  '',\n",
       "  ''],\n",
       " ['2015-3-21/08/2019',\n",
       "  '02',\n",
       "  '1',\n",
       "  'SA',\n",
       "  'Motor Cars - Sedan',\n",
       "  '2007',\n",
       "  'North East',\n",
       "  'Female',\n",
       "  '025',\n",
       "  'SA',\n",
       "  'C ',\n",
       "  'Full',\n",
       "  'Not Towing',\n",
       "  'Stopped on Carriageway',\n",
       "  '001',\n",
       "  '5015',\n",
       "  '',\n",
       "  ''],\n",
       " ['2015-4-21/08/2019',\n",
       "  '01',\n",
       "  '0',\n",
       "  'SA',\n",
       "  'Station Wagon',\n",
       "  '1992',\n",
       "  'West',\n",
       "  'Male',\n",
       "  '059',\n",
       "  'SA',\n",
       "  'C R ',\n",
       "  'Full',\n",
       "  'Not Towing',\n",
       "  'Straight Ahead',\n",
       "  '001',\n",
       "  '5043',\n",
       "  '',\n",
       "  ''],\n",
       " ['2015-4-21/08/2019',\n",
       "  '02',\n",
       "  '0',\n",
       "  'SA',\n",
       "  'Motor Cars - Sedan',\n",
       "  '2009',\n",
       "  'West',\n",
       "  'Male',\n",
       "  '040',\n",
       "  'SA',\n",
       "  'C ',\n",
       "  'Full',\n",
       "  'Not Towing',\n",
       "  'Stopped on Carriageway',\n",
       "  '003',\n",
       "  '5044',\n",
       "  '',\n",
       "  ''],\n",
       " ['2015-4-21/08/2019',\n",
       "  '03',\n",
       "  '0',\n",
       "  'SA',\n",
       "  'Motor Cars - Sedan',\n",
       "  '2006',\n",
       "  'West',\n",
       "  'Male',\n",
       "  '038',\n",
       "  'SA',\n",
       "  'C R ',\n",
       "  'Full',\n",
       "  'Not Towing',\n",
       "  'Stopped on Carriageway',\n",
       "  '001',\n",
       "  '5022',\n",
       "  '',\n",
       "  ''],\n",
       " ['2015-5-21/08/2019',\n",
       "  '01',\n",
       "  '0',\n",
       "  '',\n",
       "  'Pedal Cycle',\n",
       "  '',\n",
       "  'North',\n",
       "  'Male',\n",
       "  'XXX',\n",
       "  '',\n",
       "  '',\n",
       "  '',\n",
       "  '',\n",
       "  'Straight Ahead',\n",
       "  '001',\n",
       "  'XXXX',\n",
       "  '',\n",
       "  '']]"
      ]
     },
     "execution_count": 3,
     "metadata": {},
     "output_type": "execute_result"
    }
   ],
   "source": [
    "units_rdd.take(10)"
   ]
  },
  {
   "cell_type": "code",
   "execution_count": 4,
   "metadata": {},
   "outputs": [
    {
     "data": {
      "text/plain": [
       "72006"
      ]
     },
     "execution_count": 4,
     "metadata": {},
     "output_type": "execute_result"
    }
   ],
   "source": [
    "# Read all the units_csv file and load into an RDD object\n",
    "crashes_rdd = sc.textFile(\"./*_Crash.csv\")\n",
    "data_list = crashes_rdd.map(lambda line: line.replace('\"', '').split(\",\"))\n",
    "\n",
    "# First find out the content of the header line\n",
    "header = data_list.first()\n",
    "# Then use filter to filter all header lines\n",
    "crashes_rdd = data_list.filter(lambda line: line != header)\n",
    "\n",
    "crashes_rdd.count()"
   ]
  },
  {
   "cell_type": "code",
   "execution_count": 5,
   "metadata": {},
   "outputs": [
    {
     "data": {
      "text/plain": [
       "[['2015-1-21/08/2019',\n",
       "  '2 Metropolitan',\n",
       "  'ELIZABETH VALE',\n",
       "  '5112',\n",
       "  'CITY OF PLAYFORD.',\n",
       "  '2',\n",
       "  '1',\n",
       "  '0',\n",
       "  '0',\n",
       "  '1',\n",
       "  '2015',\n",
       "  'January',\n",
       "  'Wednesday',\n",
       "  '01:00 pm',\n",
       "  '060',\n",
       "  'T-Junction',\n",
       "  'Straight road',\n",
       "  'Level',\n",
       "  'Not Applicable',\n",
       "  'Sealed',\n",
       "  'Dry',\n",
       "  'Not Raining',\n",
       "  'Daylight',\n",
       "  'Side Swipe',\n",
       "  '01',\n",
       "  'Driver Rider',\n",
       "  '2: MI',\n",
       "  'No Control',\n",
       "  '',\n",
       "  '',\n",
       "  '1335254.54',\n",
       "  '1690056.88',\n",
       "  '13352551690057'],\n",
       " ['2015-2-21/08/2019',\n",
       "  '2 Metropolitan',\n",
       "  'SALISBURY',\n",
       "  '5108',\n",
       "  'CITY OF SALISBURY',\n",
       "  '2',\n",
       "  '1',\n",
       "  '0',\n",
       "  '0',\n",
       "  '1',\n",
       "  '2015',\n",
       "  'February',\n",
       "  'Tuesday',\n",
       "  '03:38 pm',\n",
       "  '060',\n",
       "  'Cross Road',\n",
       "  'Straight road',\n",
       "  'Level',\n",
       "  'Not Applicable',\n",
       "  'Sealed',\n",
       "  'Dry',\n",
       "  'Not Raining',\n",
       "  'Daylight',\n",
       "  'Rear End',\n",
       "  '01',\n",
       "  'Driver Rider',\n",
       "  '2: MI',\n",
       "  'Traffic Signals',\n",
       "  '',\n",
       "  '',\n",
       "  '1333389.6',\n",
       "  '1688248.34',\n",
       "  '13333901688248'],\n",
       " ['2015-3-21/08/2019',\n",
       "  '2 Metropolitan',\n",
       "  'ST MARYS',\n",
       "  '5042',\n",
       "  'CC MITCHAM.                   ',\n",
       "  '2',\n",
       "  '1',\n",
       "  '0',\n",
       "  '0',\n",
       "  '1',\n",
       "  '2015',\n",
       "  'March',\n",
       "  'Tuesday',\n",
       "  '01:15 pm',\n",
       "  '070',\n",
       "  'Cross Road',\n",
       "  'Straight road',\n",
       "  'Level',\n",
       "  'Not Applicable',\n",
       "  'Sealed',\n",
       "  'Dry',\n",
       "  'Not Raining',\n",
       "  'Daylight',\n",
       "  'Rear End',\n",
       "  '01',\n",
       "  'Driver Rider',\n",
       "  '2: MI',\n",
       "  'Traffic Signals',\n",
       "  '',\n",
       "  '',\n",
       "  '1326004.51',\n",
       "  '1661277.67',\n",
       "  '13260051661278'],\n",
       " ['2015-4-21/08/2019',\n",
       "  '2 Metropolitan',\n",
       "  'MITCHELL PARK',\n",
       "  '5043',\n",
       "  'CC MARION.                    ',\n",
       "  '3',\n",
       "  '0',\n",
       "  '0',\n",
       "  '0',\n",
       "  '0',\n",
       "  '2015',\n",
       "  'January',\n",
       "  'Friday',\n",
       "  '11:15 am',\n",
       "  '060',\n",
       "  'Divided Road',\n",
       "  'Straight road',\n",
       "  'Level',\n",
       "  'Not Applicable',\n",
       "  'Sealed',\n",
       "  'Dry',\n",
       "  'Not Raining',\n",
       "  'Daylight',\n",
       "  'Rear End',\n",
       "  '01',\n",
       "  'Driver Rider',\n",
       "  '1: PDO',\n",
       "  'No Control',\n",
       "  '',\n",
       "  '',\n",
       "  '1324707.6',\n",
       "  '1660681.57',\n",
       "  '13247081660682'],\n",
       " ['2015-5-21/08/2019',\n",
       "  '2 Metropolitan',\n",
       "  'NORTH BRIGHTON',\n",
       "  '5048',\n",
       "  'CITY OF HOLDFAST BAY',\n",
       "  '2',\n",
       "  '0',\n",
       "  '0',\n",
       "  '0',\n",
       "  '0',\n",
       "  '2015',\n",
       "  'January',\n",
       "  'Sunday',\n",
       "  '06:05 pm',\n",
       "  '050',\n",
       "  'Cross Road',\n",
       "  'Straight road',\n",
       "  'Level',\n",
       "  'Not Applicable',\n",
       "  'Sealed',\n",
       "  'Dry',\n",
       "  'Not Raining',\n",
       "  'Daylight',\n",
       "  'Rear End',\n",
       "  '01',\n",
       "  'Driver Rider',\n",
       "  '1: PDO',\n",
       "  'Stop Sign',\n",
       "  '',\n",
       "  '',\n",
       "  '1320769.68',\n",
       "  '1661801.51',\n",
       "  '13207701661802'],\n",
       " ['2015-6-21/08/2019',\n",
       "  '2 Metropolitan',\n",
       "  'SALISBURY DOWNS',\n",
       "  '5108',\n",
       "  'CITY OF SALISBURY',\n",
       "  '2',\n",
       "  '1',\n",
       "  '0',\n",
       "  '0',\n",
       "  '1',\n",
       "  '2015',\n",
       "  'January',\n",
       "  'Monday',\n",
       "  '03:40 pm',\n",
       "  '060',\n",
       "  'Cross Road',\n",
       "  'Straight road',\n",
       "  'Level',\n",
       "  'Not Applicable',\n",
       "  'Sealed',\n",
       "  'Dry',\n",
       "  'Not Raining',\n",
       "  'Daylight',\n",
       "  'Rear End',\n",
       "  '01',\n",
       "  'Driver Rider',\n",
       "  '2: MI',\n",
       "  'Traffic Signals',\n",
       "  '',\n",
       "  '',\n",
       "  '1331438.94',\n",
       "  '1686827.09',\n",
       "  '13314391686827'],\n",
       " ['2015-7-21/08/2019',\n",
       "  '2 Metropolitan',\n",
       "  'EDWARDSTOWN',\n",
       "  '5039',\n",
       "  'CC MARION.                    ',\n",
       "  '2',\n",
       "  '0',\n",
       "  '0',\n",
       "  '0',\n",
       "  '0',\n",
       "  '2015',\n",
       "  'January',\n",
       "  'Monday',\n",
       "  '06:15 pm',\n",
       "  '050',\n",
       "  'Cross Road',\n",
       "  'Straight road',\n",
       "  'Level',\n",
       "  'Not Applicable',\n",
       "  'Sealed',\n",
       "  'Dry',\n",
       "  'Not Raining',\n",
       "  'Daylight',\n",
       "  'Right Angle',\n",
       "  '02',\n",
       "  'Driver Rider',\n",
       "  '1: PDO',\n",
       "  'Stop Sign',\n",
       "  '',\n",
       "  '',\n",
       "  '1325689.36',\n",
       "  '1665269.62',\n",
       "  '13256891665270'],\n",
       " ['2015-8-21/08/2019',\n",
       "  '1 City',\n",
       "  'NORTH ADELAIDE',\n",
       "  '5006',\n",
       "  'CITY OF ADELAIDE',\n",
       "  '2',\n",
       "  '0',\n",
       "  '0',\n",
       "  '0',\n",
       "  '0',\n",
       "  '2015',\n",
       "  'January',\n",
       "  'Tuesday',\n",
       "  '12:30 pm',\n",
       "  '050',\n",
       "  'Not Divided',\n",
       "  'Straight road',\n",
       "  'Level',\n",
       "  'Not Applicable',\n",
       "  'Sealed',\n",
       "  'Dry',\n",
       "  'Not Raining',\n",
       "  'Daylight',\n",
       "  'Rear End',\n",
       "  '01',\n",
       "  'Driver Rider',\n",
       "  '1: PDO',\n",
       "  'No Control',\n",
       "  '',\n",
       "  '',\n",
       "  '1328296.1',\n",
       "  '1671670.41',\n",
       "  '13282961671670'],\n",
       " ['2015-9-21/08/2019',\n",
       "  '2 Metropolitan',\n",
       "  'PLYMPTON',\n",
       "  '5038',\n",
       "  'CITY OF WEST TORRENS',\n",
       "  '2',\n",
       "  '0',\n",
       "  '0',\n",
       "  '0',\n",
       "  '0',\n",
       "  '2015',\n",
       "  'January',\n",
       "  'Monday',\n",
       "  '07:30 pm',\n",
       "  '060',\n",
       "  'Divided Road',\n",
       "  'Straight road',\n",
       "  'Level',\n",
       "  'Not Applicable',\n",
       "  'Sealed',\n",
       "  'Dry',\n",
       "  'Not Raining',\n",
       "  'Daylight',\n",
       "  'Rear End',\n",
       "  '02',\n",
       "  'Driver Rider',\n",
       "  '1: PDO',\n",
       "  'No Control',\n",
       "  '',\n",
       "  '',\n",
       "  '1324317.73',\n",
       "  '1666625.75',\n",
       "  '13243181666626'],\n",
       " ['2015-10-21/08/2019',\n",
       "  '2 Metropolitan',\n",
       "  'NORWOOD',\n",
       "  '5067',\n",
       "  'CC OF NORWOOD',\n",
       "  'PAYNEHAM & ST PETERS',\n",
       "  '2',\n",
       "  '1',\n",
       "  '0',\n",
       "  '0',\n",
       "  '1',\n",
       "  '2015',\n",
       "  'January',\n",
       "  'Thursday',\n",
       "  '02:35 pm',\n",
       "  '050',\n",
       "  'Cross Road',\n",
       "  'Straight road',\n",
       "  'Level',\n",
       "  'Not Applicable',\n",
       "  'Sealed',\n",
       "  'Dry',\n",
       "  'Not Raining',\n",
       "  'Daylight',\n",
       "  'Rear End',\n",
       "  '02',\n",
       "  'Driver Rider',\n",
       "  '2: MI',\n",
       "  'Traffic Signals',\n",
       "  '',\n",
       "  '',\n",
       "  '1331854.38',\n",
       "  '1671072.44',\n",
       "  '13318541671072']]"
      ]
     },
     "execution_count": 5,
     "metadata": {},
     "output_type": "execute_result"
    }
   ],
   "source": [
    "crashes_rdd.take(10)"
   ]
  },
  {
   "cell_type": "markdown",
   "metadata": {},
   "source": [
    "## 1.2 Data Partitioning in RDD \n",
    "### 1. How many partitions do the above RDDs have?"
   ]
  },
  {
   "cell_type": "code",
   "execution_count": 6,
   "metadata": {},
   "outputs": [
    {
     "name": "stdout",
     "output_type": "stream",
     "text": [
      "33085\n",
      "35862\n",
      "28164\n",
      "29034\n",
      "27714\n"
     ]
    }
   ],
   "source": [
    "partitions = units_rdd.glom().collect()\n",
    "for partition in partitions:\n",
    "    print(len(partition))\n",
    "# rdd is evenly distributed"
   ]
  },
  {
   "cell_type": "markdown",
   "metadata": {},
   "source": [
    "### 2. a. Create a Key Value Pair RDD with Lic State as the key and rest of the other columns as value."
   ]
  },
  {
   "cell_type": "code",
   "execution_count": 7,
   "metadata": {},
   "outputs": [],
   "source": [
    "key_value = units_rdd.map(lambda x :(x[9], x[:9] + x[10:]))"
   ]
  },
  {
   "cell_type": "markdown",
   "metadata": {},
   "source": [
    "### b. Write the code to implement this partitioning in RDD using appropriate partitioning functions."
   ]
  },
  {
   "cell_type": "code",
   "execution_count": 8,
   "metadata": {},
   "outputs": [],
   "source": [
    "no_of_partitions = 2\n",
    "\n",
    "def Lic_State_function(key):\n",
    "\n",
    "    if(key == \"SA\"):\n",
    "        return 0\n",
    "    else:\n",
    "        return 1\n",
    "\n",
    "units_partitioned_rdd = key_value.partitionBy(no_of_partitions, Lic_State_function)"
   ]
  },
  {
   "cell_type": "markdown",
   "metadata": {},
   "source": [
    "### c. Write the code to print the number of records in each partition. "
   ]
  },
  {
   "cell_type": "code",
   "execution_count": 9,
   "metadata": {},
   "outputs": [
    {
     "name": "stdout",
     "output_type": "stream",
     "text": [
      "####### NUMBER OF PARTITIONS: 2\n",
      "Partition 0: 109684 \n",
      "Partition 1: 44175 \n"
     ]
    }
   ],
   "source": [
    "def print_partitions(data):\n",
    "    numPartitions = data.getNumPartitions()\n",
    "    partitions = data.glom().collect()\n",
    "    \n",
    "    print(f\"####### NUMBER OF PARTITIONS: {numPartitions}\")\n",
    "    for index, partition in enumerate(partitions):\n",
    "        # show partition if it is not empty\n",
    "        if len(partition) > 0:\n",
    "            print(f\"Partition {index}: {len(partition)} \")\n",
    "            \n",
    "print_partitions(units_partitioned_rdd)\n",
    "# There are more records related to SA"
   ]
  },
  {
   "cell_type": "markdown",
   "metadata": {},
   "source": [
    "## 1.3 Query/Analysis \n",
    "### For the Units RDD, write relevant RDD operations to answer the following queries. \n",
    "###      1. Find the average age of male and female drivers separately."
   ]
  },
  {
   "cell_type": "code",
   "execution_count": 10,
   "metadata": {},
   "outputs": [
    {
     "data": {
      "text/plain": [
       "40.975960299920004"
      ]
     },
     "execution_count": 10,
     "metadata": {},
     "output_type": "execute_result"
    }
   ],
   "source": [
    "male_drivers = units_rdd.filter(lambda x : x[7] == 'Male' and x[8].isnumeric())\n",
    "male_age = male_drivers.map(lambda x : int(x[8]))\n",
    "male_average_age = male_age.reduce(lambda x,y: x+ y)/male_drivers.count()\n",
    "male_average_age"
   ]
  },
  {
   "cell_type": "code",
   "execution_count": 11,
   "metadata": {},
   "outputs": [
    {
     "data": {
      "text/plain": [
       "40.38729268862415"
      ]
     },
     "execution_count": 11,
     "metadata": {},
     "output_type": "execute_result"
    }
   ],
   "source": [
    "female_drivers = units_rdd.filter(lambda x : x[7] == 'Female' and x[8].isnumeric())\n",
    "female_age = female_drivers.map(lambda x : int(x[8]))\n",
    "female_average_age = female_age.reduce(lambda x,y: x+ y)/female_drivers.count()\n",
    "female_average_age"
   ]
  },
  {
   "cell_type": "markdown",
   "metadata": {},
   "source": [
    "### 2. What is the oldest and the newest vehicle year involved in the accident? Display the Registration State, Year and Unit type of the vehicle."
   ]
  },
  {
   "cell_type": "code",
   "execution_count": 12,
   "metadata": {},
   "outputs": [
    {
     "data": {
      "text/plain": [
       "'VIC-1900-Motor Cycle'"
      ]
     },
     "execution_count": 12,
     "metadata": {},
     "output_type": "execute_result"
    }
   ],
   "source": [
    "years  = units_rdd.filter(lambda x : x[5].isnumeric())\n",
    "oldest_vehicle = years.sortBy(lambda x : x[5], ascending = True).take(1)[0]\n",
    "oldest_vehicle[9] +'-' + oldest_vehicle[5] +'-' + oldest_vehicle[4]"
   ]
  },
  {
   "cell_type": "code",
   "execution_count": 13,
   "metadata": {},
   "outputs": [
    {
     "data": {
      "text/plain": [
       "'SA-2019-Station Wagon'"
      ]
     },
     "execution_count": 13,
     "metadata": {},
     "output_type": "execute_result"
    }
   ],
   "source": [
    "years  = units_rdd.filter(lambda x : x[5].isnumeric())\n",
    "newest_vehicle = years.sortBy(lambda x : x[5], ascending = False).take(1)[0]\n",
    "newest_vehicle[9] +'-' + newest_vehicle[5] +'-' + newest_vehicle[4]"
   ]
  },
  {
   "cell_type": "markdown",
   "metadata": {},
   "source": [
    "## 2. Working with DataFrames\n",
    "### 2.1 Data Preparation and Loading \n",
    "### 1. Load all units and crash data into two separate dataframes"
   ]
  },
  {
   "cell_type": "code",
   "execution_count": 14,
   "metadata": {},
   "outputs": [],
   "source": [
    "units_df = spark.read.csv(\"./*_Units.csv\", header = True, inferSchema = True)\n",
    "crashes_df = spark.read.csv(\"./*_Crash.csv\", header = True, inferSchema = True)"
   ]
  },
  {
   "cell_type": "code",
   "execution_count": 15,
   "metadata": {
    "scrolled": true
   },
   "outputs": [
    {
     "name": "stdout",
     "output_type": "stream",
     "text": [
      "root\n",
      " |-- REPORT_ID: string (nullable = true)\n",
      " |-- Unit No: integer (nullable = true)\n",
      " |-- No Of Cas: integer (nullable = true)\n",
      " |-- Veh Reg State: string (nullable = true)\n",
      " |-- Unit Type: string (nullable = true)\n",
      " |-- Veh Year: string (nullable = true)\n",
      " |-- Direction Of Travel: string (nullable = true)\n",
      " |-- Sex: string (nullable = true)\n",
      " |-- Age: string (nullable = true)\n",
      " |-- Lic State: string (nullable = true)\n",
      " |-- Licence Class: string (nullable = true)\n",
      " |-- Licence Type: string (nullable = true)\n",
      " |-- Towing: string (nullable = true)\n",
      " |-- Unit Movement: string (nullable = true)\n",
      " |-- Number Occupants: string (nullable = true)\n",
      " |-- Postcode: string (nullable = true)\n",
      " |-- Rollover: string (nullable = true)\n",
      " |-- Fire: string (nullable = true)\n",
      "\n",
      "root\n",
      " |-- REPORT_ID: string (nullable = true)\n",
      " |-- Stats Area: string (nullable = true)\n",
      " |-- Suburb: string (nullable = true)\n",
      " |-- Postcode: integer (nullable = true)\n",
      " |-- LGA Name: string (nullable = true)\n",
      " |-- Total Units: integer (nullable = true)\n",
      " |-- Total Cas: integer (nullable = true)\n",
      " |-- Total Fats: integer (nullable = true)\n",
      " |-- Total SI: integer (nullable = true)\n",
      " |-- Total MI: integer (nullable = true)\n",
      " |-- Year: integer (nullable = true)\n",
      " |-- Month: string (nullable = true)\n",
      " |-- Day: string (nullable = true)\n",
      " |-- Time: string (nullable = true)\n",
      " |-- Area Speed: integer (nullable = true)\n",
      " |-- Position Type: string (nullable = true)\n",
      " |-- Horizontal Align: string (nullable = true)\n",
      " |-- Vertical Align: string (nullable = true)\n",
      " |-- Other Feat: string (nullable = true)\n",
      " |-- Road Surface: string (nullable = true)\n",
      " |-- Moisture Cond: string (nullable = true)\n",
      " |-- Weather Cond: string (nullable = true)\n",
      " |-- DayNight: string (nullable = true)\n",
      " |-- Crash Type: string (nullable = true)\n",
      " |-- Unit Resp: integer (nullable = true)\n",
      " |-- Entity Code: string (nullable = true)\n",
      " |-- CSEF Severity: string (nullable = true)\n",
      " |-- Traffic Ctrls: string (nullable = true)\n",
      " |-- DUI Involved: string (nullable = true)\n",
      " |-- Drugs Involved: string (nullable = true)\n",
      " |-- ACCLOC_X: double (nullable = true)\n",
      " |-- ACCLOC_Y: double (nullable = true)\n",
      " |-- UNIQUE_LOC: long (nullable = true)\n",
      "\n"
     ]
    }
   ],
   "source": [
    "units_df.printSchema()\n",
    "crashes_df.printSchema()"
   ]
  },
  {
   "cell_type": "markdown",
   "metadata": {},
   "source": [
    "## 2.2 Query/Analysis\n",
    "### 1. Find all the crash events in Adelaide where the total number of casualties in the event is more than 3."
   ]
  },
  {
   "cell_type": "code",
   "execution_count": 16,
   "metadata": {},
   "outputs": [
    {
     "name": "stdout",
     "output_type": "stream",
     "text": [
      "+--------------------+----------+--------+--------+----------------+-----------+---------+----------+--------+--------+----+--------+--------+--------+----------+-------------+----------------+--------------+--------------------+------------+-------------+------------+--------+--------------+---------+------------+-------------+---------------+------------+--------------+----------+----------+--------------+\n",
      "|           REPORT_ID|Stats Area|  Suburb|Postcode|        LGA Name|Total Units|Total Cas|Total Fats|Total SI|Total MI|Year|   Month|     Day|    Time|Area Speed|Position Type|Horizontal Align|Vertical Align|          Other Feat|Road Surface|Moisture Cond|Weather Cond|DayNight|    Crash Type|Unit Resp| Entity Code|CSEF Severity|  Traffic Ctrls|DUI Involved|Drugs Involved|  ACCLOC_X|  ACCLOC_Y|    UNIQUE_LOC|\n",
      "+--------------------+----------+--------+--------+----------------+-----------+---------+----------+--------+--------+----+--------+--------+--------+----------+-------------+----------------+--------------+--------------------+------------+-------------+------------+--------+--------------+---------+------------+-------------+---------------+------------+--------------+----------+----------+--------------+\n",
      "| 2018-601-17/01/2020|    1 City|ADELAIDE|    5000|CITY OF ADELAIDE|          8|        4|         0|       2|       2|2018| January|  Sunday|09:12 pm|        50|  Not Divided|   Straight road|         Level|      Not Applicable|      Sealed|          Dry| Not Raining|   Night|Hit Pedestrian|        1|Driver Rider|        3: SI|     No Control|        null|          null|1329806.36|1670224.76|13298061670225|\n",
      "|2017-1613-15/08/2019|    1 City|ADELAIDE|    5000|CITY OF ADELAIDE|          2|        4|         0|       0|       4|2017|February|Saturday|04:00 pm|        50|   Cross Road|   Straight road|         Level|      Not Applicable|      Sealed|          Dry| Not Raining|Daylight|    Right Turn|        1|Driver Rider|        2: MI|Traffic Signals|        null|          null|1327951.24|1669556.92|13279511669557|\n",
      "|2017-12182-15/08/...|    1 City|ADELAIDE|    5000|CITY OF ADELAIDE|          6|        5|         0|       1|       4|2017|December|Saturday|04:08 pm|        50|   Cross Road|   Straight road|         Level|      Not Applicable|      Sealed|          Wet| Not Raining|Daylight|Hit Pedestrian|        1|Driver Rider|        3: SI|Traffic Signals|        null|          null| 1329016.2|1670995.07|13290161670995|\n",
      "|2019-10404-8/07/2020|    1 City|ADELAIDE|    5000|CITY OF ADELAIDE|          4|        6|         0|       0|       6|2019| October|  Monday|08:20 am|        60| Divided Road|   Straight road|         Level|Driveway or Entrance|      Sealed|          Dry| Not Raining|Daylight|    Right Turn|        1|Driver Rider|        2: MI|     No Control|        null|          null|1327088.72|1670880.07|13270891670880|\n",
      "+--------------------+----------+--------+--------+----------------+-----------+---------+----------+--------+--------+----+--------+--------+--------+----------+-------------+----------------+--------------+--------------------+------------+-------------+------------+--------+--------------+---------+------------+-------------+---------------+------------+--------------+----------+----------+--------------+\n",
      "\n"
     ]
    }
   ],
   "source": [
    "import pyspark.sql.functions as F\n",
    "crashes_df.filter((F.col(\"Suburb\") == \"ADELAIDE\") & (F.col(\"Total Cas\") > 3)).show()"
   ]
  },
  {
   "cell_type": "markdown",
   "metadata": {},
   "source": [
    "### 2. Display 10 crash events with highest casualties"
   ]
  },
  {
   "cell_type": "code",
   "execution_count": 17,
   "metadata": {},
   "outputs": [
    {
     "name": "stdout",
     "output_type": "stream",
     "text": [
      "+--------------------+--------------+---------------+--------+--------------------+-----------+---------+----------+--------+--------+----+--------+---------+--------+----------+-------------+--------------------+--------------+--------------+------------+-------------+------------+--------+-----------+---------+------------+-------------+---------------+------------+--------------+----------+----------+--------------+\n",
      "|           REPORT_ID|    Stats Area|         Suburb|Postcode|            LGA Name|Total Units|Total Cas|Total Fats|Total SI|Total MI|Year|   Month|      Day|    Time|Area Speed|Position Type|    Horizontal Align|Vertical Align|    Other Feat|Road Surface|Moisture Cond|Weather Cond|DayNight| Crash Type|Unit Resp| Entity Code|CSEF Severity|  Traffic Ctrls|DUI Involved|Drugs Involved|  ACCLOC_X|  ACCLOC_Y|    UNIQUE_LOC|\n",
      "+--------------------+--------------+---------------+--------+--------------------+-----------+---------+----------+--------+--------+----+--------+---------+--------+----------+-------------+--------------------+--------------+--------------+------------+-------------+------------+--------+-----------+---------+------------+-------------+---------------+------------+--------------+----------+----------+--------------+\n",
      "| 2017-288-15/08/2019|2 Metropolitan|     PARA HILLS|    5096|   CITY OF SALISBURY|          2|       11|         0|       1|      10|2017| January|Wednesday|01:13 pm|        60|   T-Junction|       Straight road| Crest of Hill|Not Applicable|      Sealed|          Dry| Not Raining|Daylight|Right Angle|        1|Driver Rider|        3: SI|      Stop Sign|        null|          null| 1334428.9|1683032.96|13344291683033|\n",
      "|2016-3035-15/08/2019|2 Metropolitan|        HACKHAM|    5163| CITY OF ONKAPARINGA|          3|        9|         3|       5|       1|2016| January| Saturday|11:50 am|        80|   T-Junction|       Straight road|         Level|Not Applicable|      Sealed|          Dry| Not Raining|Daylight| Right Turn|        1|Driver Rider|     4: Fatal|     No Control|        null|          null|1320361.49|1645195.63|13203611645196|\n",
      "|2016-6630-15/08/2019|2 Metropolitan|  KANGAROO FLAT|    5118|LIGHT REGIONAL CO...|          3|        9|         0|       2|       7|2016|   April|Wednesday|09:00 pm|       100|  Not Divided|CURVED, VIEW OBSC...|         Level|Not Applicable|      Sealed|          Dry| Not Raining|   Night|    Head On|        1|Driver Rider|        3: SI|     No Control|        null|          null|1339316.32|1710314.92|13393161710315|\n",
      "|2019-11734-8/07/2020|2 Metropolitan|          STURT|    5047|CC MARION.       ...|          2|        9|         0|       1|       8|2019|November|   Sunday|07:25 pm|        60|   T-Junction|       Straight road|         Level|Not Applicable|      Sealed|          Dry| Not Raining|Daylight| Right Turn|        2|Driver Rider|        3: SI|Traffic Signals|        null|          null|1324428.84|1659884.95|13244291659885|\n",
      "|2016-14407-15/08/...|     3 Country|      STOCKWELL|    5355|THE BAROSSA COUNCIL.|          2|        8|         1|       6|       1|2016| October|   Sunday|03:46 pm|       100|  Not Divided|       Straight road| Crest of Hill|Not Applicable|    Unsealed|          Dry| Not Raining|Daylight|    Head On|        1|Driver Rider|     4: Fatal|     No Control|        null|          null|1373964.45|1723462.57|13739641723463|\n",
      "|2016-7073-15/08/2019|     3 Country|       MERRITON|    5523|PT.PIRIE CITY & D...|          2|        8|         4|       3|       1|2016|   April|   Sunday|12:35 pm|       110|  Not Divided|       Straight road|         Level|Not Applicable|      Sealed|          Dry| Not Raining|Daylight|    Head On|        1|Driver Rider|     4: Fatal|     No Control|        null|          null|1293759.89|1840109.96|12937601840110|\n",
      "|2015-2823-21/08/2019|     3 Country|         HAWKER|    5434|THE FLINDERS RANG...|          1|        8|         0|       0|       8|2015|   March|   Monday|06:00 pm|       110|  Not Divided|       Straight road|         Level|Not Applicable|      Sealed|          Dry| Not Raining|Daylight|  Roll Over|        1|Driver Rider|        2: MI|     No Control|        null|          null|1315077.61|2022309.34|13150782022309|\n",
      "|2015-12591-21/08/...|     3 Country|        MALLALA|    5502|DC MALLALA.      ...|          2|        7|         0|       2|       5|2015| October|   Sunday|02:30 pm|       100|   Cross Road|       Straight road|         Level|Not Applicable|    Unsealed|          Dry| Not Raining|Daylight|Right Angle|        1|Driver Rider|        3: SI|  Give Way Sign|        null|          null|1325122.01|1724860.95|13251221724861|\n",
      "|2015-13713-21/08/...|2 Metropolitan|ELIZABETH GROVE|    5112|   CITY OF PLAYFORD.|          2|        7|         0|       0|       7|2015|November|   Friday|03:42 pm|        80|   T-Junction|       Straight road|         Level|Not Applicable|      Sealed|          Dry| Not Raining|Daylight|   Rear End|        1|Driver Rider|        2: MI|     No Control|        null|          null|1336118.68|1691385.65|13361191691386|\n",
      "|2015-6965-21/08/2019|     3 Country|       BEAUFORT|    5550|YORKE PENINSULA C...|          3|        7|         3|       4|       0|2015|    June|   Monday|11:13 am|       100|   T-Junction|       Straight road|         Level|Not Applicable|      Sealed|          Dry| Not Raining|Daylight|    Head On|        9|       Other|     4: Fatal|     No Control|        null|          null|1287930.19|1761652.36|12879301761652|\n",
      "+--------------------+--------------+---------------+--------+--------------------+-----------+---------+----------+--------+--------+----+--------+---------+--------+----------+-------------+--------------------+--------------+--------------+------------+-------------+------------+--------+-----------+---------+------------+-------------+---------------+------------+--------------+----------+----------+--------------+\n",
      "only showing top 10 rows\n",
      "\n"
     ]
    }
   ],
   "source": [
    "crashes_df.sort(\"Total Cas\", ascending = False).show(10)"
   ]
  },
  {
   "cell_type": "markdown",
   "metadata": {},
   "source": [
    "### 3. Find the total number of fatalities for each crash type."
   ]
  },
  {
   "cell_type": "code",
   "execution_count": 18,
   "metadata": {},
   "outputs": [
    {
     "name": "stdout",
     "output_type": "stream",
     "text": [
      "+--------------------+---------------+\n",
      "|          Crash Type|sum(Total Fats)|\n",
      "+--------------------+---------------+\n",
      "|           Roll Over|             57|\n",
      "|  Hit Object on Road|              2|\n",
      "|      Hit Pedestrian|             70|\n",
      "|    Hit Fixed Object|            152|\n",
      "|               Other|              2|\n",
      "|          Side Swipe|             20|\n",
      "|             Head On|             86|\n",
      "|  Hit Parked Vehicle|              9|\n",
      "|          Right Turn|             18|\n",
      "|            Rear End|             16|\n",
      "|          Hit Animal|              4|\n",
      "|Left Road - Out o...|              1|\n",
      "|         Right Angle|             45|\n",
      "+--------------------+---------------+\n",
      "\n"
     ]
    }
   ],
   "source": [
    "crashes_df.groupby(\"Crash Type\").sum(\"Total Fats\").show()"
   ]
  },
  {
   "cell_type": "markdown",
   "metadata": {},
   "source": [
    "### 4. Find the total number of casualties for each suburb when the vehicle was driven by an unlicensed driver"
   ]
  },
  {
   "cell_type": "code",
   "execution_count": 19,
   "metadata": {},
   "outputs": [
    {
     "name": "stdout",
     "output_type": "stream",
     "text": [
      "+-------------------+--------------+\n",
      "|             Suburb|sum(Total Cas)|\n",
      "+-------------------+--------------+\n",
      "|      FLINDERS PARK|             8|\n",
      "|       POOGINAGORIC|             1|\n",
      "|     TEA TREE GULLY|             1|\n",
      "|            HACKHAM|             3|\n",
      "|   MEDINDIE GARDENS|             0|\n",
      "|           WISANGER|             1|\n",
      "|            CUMMINS|             0|\n",
      "|       BASKET RANGE|             0|\n",
      "|MURRAY BRIDGE SOUTH|             0|\n",
      "|      GILLES PLAINS|             7|\n",
      "|             HAWKER|             0|\n",
      "|           BEAUFORT|             1|\n",
      "|             MAGILL|             7|\n",
      "|            ECHUNGA|             1|\n",
      "|            CULTANA|             1|\n",
      "|        EDWARDSTOWN|             6|\n",
      "|        RISDON PARK|             1|\n",
      "|          THORNGATE|             1|\n",
      "|       ANDREWS FARM|            12|\n",
      "|       TORRENSVILLE|             5|\n",
      "+-------------------+--------------+\n",
      "only showing top 20 rows\n",
      "\n"
     ]
    }
   ],
   "source": [
    "units_df.filter(F.col(\"Licence Type\") == \"Unlicenced\")\\\n",
    "    .join(crashes_df, crashes_df.REPORT_ID == units_df.REPORT_ID)\\\n",
    "    .groupby(\"Suburb\").sum(\"Total Cas\").show()"
   ]
  },
  {
   "cell_type": "markdown",
   "metadata": {},
   "source": [
    "## 2.3 Severity Analysis\n",
    "### 1. Find the total number of crash events for each severity level. Which severity level is the most common?"
   ]
  },
  {
   "cell_type": "code",
   "execution_count": 20,
   "metadata": {},
   "outputs": [
    {
     "name": "stdout",
     "output_type": "stream",
     "text": [
      "+-------------+-----+\n",
      "|CSEF Severity|count|\n",
      "+-------------+-----+\n",
      "|       1: PDO|46696|\n",
      "|        2: MI|21881|\n",
      "|        3: SI| 2978|\n",
      "|     4: Fatal|  451|\n",
      "+-------------+-----+\n",
      "\n"
     ]
    }
   ],
   "source": [
    "crashes_df.groupby(\"CSEF Severity\").count().sort(\"count\", ascending = False).show()\n",
    "# PDO level is the most common"
   ]
  },
  {
   "cell_type": "markdown",
   "metadata": {},
   "source": [
    "### 2. Compute the total number of crash events for each severity level and the percentage for the four different scenarios.\n",
    "#### a. When the driver is tested positive on drugs"
   ]
  },
  {
   "cell_type": "code",
   "execution_count": 21,
   "metadata": {},
   "outputs": [
    {
     "name": "stdout",
     "output_type": "stream",
     "text": [
      "+-------------+-----+------------------+\n",
      "|CSEF Severity|count|        percentage|\n",
      "+-------------+-----+------------------+\n",
      "|        2: MI|  749|59.728867623604465|\n",
      "|        3: SI|  247|19.696969696969695|\n",
      "|       1: PDO|  176|14.035087719298245|\n",
      "|     4: Fatal|   82| 6.539074960127592|\n",
      "+-------------+-----+------------------+\n",
      "\n"
     ]
    }
   ],
   "source": [
    "drugs_positive = crashes_df.filter(F.col(\"Drugs Involved\") == \"Y\")\n",
    "drugs_positive_percentage = drugs_positive.groupby(\"CSEF Severity\").count()\\\n",
    "    .withColumn(\"percentage\", F.col(\"count\") * 100 / drugs_positive.count())\\\n",
    "    .sort(\"count\", ascending = False)\n",
    "drugs_positive_percentage.show()"
   ]
  },
  {
   "cell_type": "markdown",
   "metadata": {},
   "source": [
    "#### b. When the driver is tested positive for blood alcohol concentration."
   ]
  },
  {
   "cell_type": "code",
   "execution_count": 22,
   "metadata": {},
   "outputs": [
    {
     "name": "stdout",
     "output_type": "stream",
     "text": [
      "+-------------+-----+------------------+\n",
      "|CSEF Severity|count|        percentage|\n",
      "+-------------+-----+------------------+\n",
      "|       1: PDO| 1173|52.179715302491104|\n",
      "|        2: MI|  737|  32.7846975088968|\n",
      "|        3: SI|  259| 11.52135231316726|\n",
      "|     4: Fatal|   79|  3.51423487544484|\n",
      "+-------------+-----+------------------+\n",
      "\n"
     ]
    }
   ],
   "source": [
    "alcohol_positive = crashes_df.filter(F.col(\"DUI Involved\") == \"Y\")\n",
    "alcohol_positive_percentage = alcohol_positive.groupby(\"CSEF Severity\").count()\\\n",
    "    .withColumn(\"percentage\", F.col(\"count\") * 100 / alcohol_positive.count())\\\n",
    "    .sort(\"count\", ascending = False)\n",
    "alcohol_positive_percentage.show()"
   ]
  },
  {
   "cell_type": "markdown",
   "metadata": {},
   "source": [
    "#### c. When the driver is tested positive for both drugs and blood alcohol"
   ]
  },
  {
   "cell_type": "code",
   "execution_count": 23,
   "metadata": {},
   "outputs": [
    {
     "name": "stdout",
     "output_type": "stream",
     "text": [
      "+-------------+-----+------------------+\n",
      "|CSEF Severity|count|        percentage|\n",
      "+-------------+-----+------------------+\n",
      "|        2: MI|   89|50.857142857142854|\n",
      "|        3: SI|   35|              20.0|\n",
      "|     4: Fatal|   27|15.428571428571429|\n",
      "|       1: PDO|   24|13.714285714285714|\n",
      "+-------------+-----+------------------+\n",
      "\n"
     ]
    }
   ],
   "source": [
    "drugs_alcohol_positive = crashes_df.filter((F.col(\"Drugs Involved\") == \"Y\") & (F.col(\"DUI Involved\") == \"Y\"))\n",
    "drugs_alcohol_positive_percentage = drugs_alcohol_positive.groupby(\"CSEF Severity\").count()\\\n",
    "    .withColumn(\"percentage\", F.col(\"count\") * 100 / drugs_alcohol_positive.count())\\\n",
    "    .sort(\"count\", ascending = False)\n",
    "drugs_alcohol_positive_percentage.show()"
   ]
  },
  {
   "cell_type": "markdown",
   "metadata": {},
   "source": [
    "#### d. When the driver is tested negative for both (no alcohol and no drugs)"
   ]
  },
  {
   "cell_type": "code",
   "execution_count": 24,
   "metadata": {},
   "outputs": [
    {
     "name": "stdout",
     "output_type": "stream",
     "text": [
      "+-------------+-----+------------------+\n",
      "|CSEF Severity|count|        percentage|\n",
      "+-------------+-----+------------------+\n",
      "|       1: PDO|45371| 66.06240626683557|\n",
      "|        2: MI|20484|29.825710916000524|\n",
      "|        3: SI| 2507|3.6503152346423215|\n",
      "|     4: Fatal|  317|0.4615675825215859|\n",
      "+-------------+-----+------------------+\n",
      "\n"
     ]
    }
   ],
   "source": [
    "drugs_alcohol_negative = crashes_df.filter((F.col(\"Drugs Involved\").isNull()) & (F.col(\"DUI Involved\").isNull()))\n",
    "drugs_alcohol_negative_percentage = drugs_alcohol_negative.groupby(\"CSEF Severity\").count()\\\n",
    "    .withColumn(\"percentage\", F.col(\"count\") * 100 / drugs_alcohol_negative.count())\\\n",
    "    .sort(\"count\", ascending = False)\n",
    "drugs_alcohol_negative_percentage.show()"
   ]
  },
  {
   "cell_type": "markdown",
   "metadata": {},
   "source": [
    "## 2.4 RDDs vs DataFrame vs Spark SQL\n",
    "### 1. Find the Date and Time of Crash, Number of Casualties in each unit and the Gender,  Age, License Type of the unit driver for the suburb \"Adelaide\"."
   ]
  },
  {
   "cell_type": "markdown",
   "metadata": {},
   "source": [
    "### RDDs"
   ]
  },
  {
   "cell_type": "code",
   "execution_count": 25,
   "metadata": {},
   "outputs": [
    {
     "name": "stdout",
     "output_type": "stream",
     "text": [
      "CPU times: user 56 ms, sys: 16.3 ms, total: 72.3 ms\n",
      "Wall time: 6.33 s\n"
     ]
    }
   ],
   "source": [
    "%%time\n",
    "crashes_key_values = crashes_rdd.filter(lambda x: x[2] == \"ADELAIDE\").map(lambda x: (x[0], x[1:]))\n",
    "units_key_values = units_rdd.map(lambda x: (x[0], x[1:]))\n",
    "rdd_1 = crashes_key_values.join(units_key_values)\\\n",
    "    .mapValues(lambda x: [f\"{x[0][9]}-{x[0][10]}-{x[0][11]}\", x[0][12], x[0][5], x[1][6], x[1][7], x[1][10]]).collect()"
   ]
  },
  {
   "cell_type": "markdown",
   "metadata": {},
   "source": [
    "### DataFrame"
   ]
  },
  {
   "cell_type": "code",
   "execution_count": 26,
   "metadata": {},
   "outputs": [
    {
     "name": "stdout",
     "output_type": "stream",
     "text": [
      "CPU times: user 56 ms, sys: 7.94 ms, total: 63.9 ms\n",
      "Wall time: 2.02 s\n"
     ]
    }
   ],
   "source": [
    "%%time\n",
    "df_1 = crashes_df.filter(F.col(\"suburb\") == \"ADELAIDE\").join(units_df, units_df.REPORT_ID == crashes_df.REPORT_ID)\\\n",
    ".withColumn(\"Date\", F.concat(F.col(\"Year\"), F.lit(\"-\"), F.col(\"Month\"), F.lit(\"-\"), F.col(\"Day\")))\\\n",
    ".select(\"Date\", \"Time\", \"Total CAS\", \"Sex\", \"Age\", \"Licence Type\").collect()"
   ]
  },
  {
   "cell_type": "markdown",
   "metadata": {},
   "source": [
    "### Spark SQL"
   ]
  },
  {
   "cell_type": "code",
   "execution_count": 27,
   "metadata": {},
   "outputs": [],
   "source": [
    "crashes_df.createOrReplaceTempView(\"crashes_sql\")\n",
    "units_df.createOrReplaceTempView(\"units_sql\")"
   ]
  },
  {
   "cell_type": "code",
   "execution_count": 28,
   "metadata": {
    "scrolled": true
   },
   "outputs": [
    {
     "name": "stdout",
     "output_type": "stream",
     "text": [
      "CPU times: user 36.3 ms, sys: 0 ns, total: 36.3 ms\n",
      "Wall time: 1.86 s\n"
     ]
    }
   ],
   "source": [
    "%%time\n",
    "\n",
    "sql_1 = spark.sql('''\n",
    "SELECT CONCAT(c.year,'-',c.month,'-',c.day) AS Date, c.Time, `Total Cas`, Sex, Age, `Licence Type`\n",
    "FROM crashes_sql as c join units_sql as u\n",
    "WHERE c.REPORT_ID == u.REPORT_ID AND c.Suburb == \"ADELAIDE\"\n",
    "''').collect()"
   ]
  },
  {
   "cell_type": "markdown",
   "metadata": {},
   "source": [
    "### 2. Find the total number of casualties for each suburb when the vehicle was driven by an unlicensed driver."
   ]
  },
  {
   "cell_type": "markdown",
   "metadata": {},
   "source": [
    "### RDDs"
   ]
  },
  {
   "cell_type": "code",
   "execution_count": 29,
   "metadata": {},
   "outputs": [
    {
     "name": "stdout",
     "output_type": "stream",
     "text": [
      "CPU times: user 51.7 ms, sys: 7.92 ms, total: 59.6 ms\n",
      "Wall time: 5.22 s\n"
     ]
    },
    {
     "data": {
      "text/plain": [
       "[('PARALOWIE', 4),\n",
       " ('BIRKENHEAD', 2),\n",
       " ('BERRI', 3),\n",
       " ('CLOVELLY PARK', 1),\n",
       " ('DAVOREN PARK', 8),\n",
       " ('HACKHAM', 3),\n",
       " ('MODBURY NORTH', 3),\n",
       " ('FULLARTON', 0),\n",
       " ('HAPPY VALLEY', 5),\n",
       " ('MUNNO PARA WEST', 1),\n",
       " ('HEATHPOOL', 3),\n",
       " ('NORTH PLYMPTON', 1),\n",
       " ('WHITES FLAT', 0),\n",
       " ('CRAIGMORE', 2),\n",
       " ('URRBRAE', 2),\n",
       " ('ONKAPARINGA HILLS', 7),\n",
       " ('FIRLE', 6),\n",
       " ('RIVERGLADES', 1),\n",
       " ('SALISBURY PARK', 0),\n",
       " ('NOARLUNGA CENTRE', 1)]"
      ]
     },
     "execution_count": 29,
     "metadata": {},
     "output_type": "execute_result"
    }
   ],
   "source": [
    "%%time\n",
    "crashes_key_values = crashes_rdd.map(lambda x: (x[0], x[1:]))\n",
    "units_key_values = units_rdd.filter(lambda x: x[11] == \"Unlicenced\")\\\n",
    "    .map(lambda x: (x[0], x[1:]))\n",
    "crashes_key_values.join(units_key_values).map(lambda x : x[1][0])\\\n",
    "    .map(lambda x: (x[1], int(x[5])))\\\n",
    "    .reduceByKey(lambda x,y : x+y).take(20)"
   ]
  },
  {
   "cell_type": "markdown",
   "metadata": {},
   "source": [
    "### DataFrame"
   ]
  },
  {
   "cell_type": "code",
   "execution_count": 30,
   "metadata": {},
   "outputs": [
    {
     "name": "stdout",
     "output_type": "stream",
     "text": [
      "+-------------------+--------------+\n",
      "|             Suburb|sum(Total Cas)|\n",
      "+-------------------+--------------+\n",
      "|      FLINDERS PARK|             8|\n",
      "|       POOGINAGORIC|             1|\n",
      "|     TEA TREE GULLY|             1|\n",
      "|            HACKHAM|             3|\n",
      "|   MEDINDIE GARDENS|             0|\n",
      "|           WISANGER|             1|\n",
      "|            CUMMINS|             0|\n",
      "|       BASKET RANGE|             0|\n",
      "|MURRAY BRIDGE SOUTH|             0|\n",
      "|      GILLES PLAINS|             7|\n",
      "|             HAWKER|             0|\n",
      "|           BEAUFORT|             1|\n",
      "|             MAGILL|             7|\n",
      "|            ECHUNGA|             1|\n",
      "|            CULTANA|             1|\n",
      "|        EDWARDSTOWN|             6|\n",
      "|        RISDON PARK|             1|\n",
      "|          THORNGATE|             1|\n",
      "|       ANDREWS FARM|            12|\n",
      "|       TORRENSVILLE|             5|\n",
      "+-------------------+--------------+\n",
      "only showing top 20 rows\n",
      "\n",
      "CPU times: user 6.04 ms, sys: 302 µs, total: 6.34 ms\n",
      "Wall time: 1.71 s\n"
     ]
    }
   ],
   "source": [
    "%%time\n",
    "\n",
    "df_2 = units_df.filter(F.col(\"Licence Type\") == \"Unlicenced\").join(crashes_df, crashes_df.REPORT_ID == units_df.REPORT_ID)\\\n",
    "    .groupby(\"Suburb\").sum(\"Total Cas\").show()"
   ]
  },
  {
   "cell_type": "markdown",
   "metadata": {},
   "source": [
    "### Spark SQL"
   ]
  },
  {
   "cell_type": "code",
   "execution_count": 31,
   "metadata": {
    "scrolled": true
   },
   "outputs": [
    {
     "name": "stdout",
     "output_type": "stream",
     "text": [
      "+-------------------+--------------+\n",
      "|             Suburb|sum(Total Cas)|\n",
      "+-------------------+--------------+\n",
      "|      FLINDERS PARK|             8|\n",
      "|       POOGINAGORIC|             1|\n",
      "|     TEA TREE GULLY|             1|\n",
      "|            HACKHAM|             3|\n",
      "|   MEDINDIE GARDENS|             0|\n",
      "|           WISANGER|             1|\n",
      "|            CUMMINS|             0|\n",
      "|       BASKET RANGE|             0|\n",
      "|MURRAY BRIDGE SOUTH|             0|\n",
      "|      GILLES PLAINS|             7|\n",
      "|             HAWKER|             0|\n",
      "|           BEAUFORT|             1|\n",
      "|             MAGILL|             7|\n",
      "|            ECHUNGA|             1|\n",
      "|            CULTANA|             1|\n",
      "|        EDWARDSTOWN|             6|\n",
      "|        RISDON PARK|             1|\n",
      "|          THORNGATE|             1|\n",
      "|       ANDREWS FARM|            12|\n",
      "|       TORRENSVILLE|             5|\n",
      "+-------------------+--------------+\n",
      "only showing top 20 rows\n",
      "\n",
      "CPU times: user 4.55 ms, sys: 0 ns, total: 4.55 ms\n",
      "Wall time: 1.94 s\n"
     ]
    }
   ],
   "source": [
    "%%time\n",
    "spark.sql('''\n",
    "SELECT c.Suburb, sum(`Total Cas`) \n",
    "FROM crashes_sql as c join units_sql as u on c.REPORT_ID == u.REPORT_ID\n",
    "WHERE u.`Licence Type` == \"Unlicenced\"\n",
    "GROUP BY c.Suburb\n",
    "''').show()"
   ]
  },
  {
   "cell_type": "markdown",
   "metadata": {},
   "source": [
    "# Part B"
   ]
  },
  {
   "cell_type": "code",
   "execution_count": 32,
   "metadata": {},
   "outputs": [],
   "source": [
    "import matplotlib.pylab as plt"
   ]
  },
  {
   "cell_type": "code",
   "execution_count": 33,
   "metadata": {},
   "outputs": [
    {
     "data": {
      "text/plain": [
       "<BarContainer object of 4 artists>"
      ]
     },
     "execution_count": 33,
     "metadata": {},
     "output_type": "execute_result"
    },
    {
     "data": {
      "image/png": "[encoded data removed]",
      "text/plain": [
       "<Figure size 432x288 with 1 Axes>"
      ]
     },
     "metadata": {
      "needs_background": "light"
     },
     "output_type": "display_data"
    }
   ],
   "source": [
    "drugs_positive_list = drugs_positive_percentage.collect()\n",
    "x = [c[0] for c in drugs_positive_list]\n",
    "y = [c[2] for c in drugs_positive_list]\n",
    "plt.bar(x,y, label = \"drugs_positive\")"
   ]
  },
  {
   "cell_type": "code",
   "execution_count": 34,
   "metadata": {},
   "outputs": [
    {
     "data": {
      "text/plain": [
       "<BarContainer object of 4 artists>"
      ]
     },
     "execution_count": 34,
     "metadata": {},
     "output_type": "execute_result"
    },
    {
     "data": {
      "image/png": "[encoded data removed]",
      "text/plain": [
       "<Figure size 432x288 with 1 Axes>"
      ]
     },
     "metadata": {
      "needs_background": "light"
     },
     "output_type": "display_data"
    }
   ],
   "source": [
    "alcohol_positive_list = alcohol_positive_percentage.collect()\n",
    "x = [c[0] for c in alcohol_positive_list]\n",
    "y = [c[2] for c in alcohol_positive_list]\n",
    "plt.bar(x,y, label = \"drugs_positive\")"
   ]
  },
  {
   "cell_type": "code",
   "execution_count": 35,
   "metadata": {},
   "outputs": [
    {
     "data": {
      "text/plain": [
       "<BarContainer object of 4 artists>"
      ]
     },
     "execution_count": 35,
     "metadata": {},
     "output_type": "execute_result"
    },
    {
     "data": {
      "image/png": "[encoded data removed]",
      "text/plain": [
       "<Figure size 432x288 with 1 Axes>"
      ]
     },
     "metadata": {
      "needs_background": "light"
     },
     "output_type": "display_data"
    }
   ],
   "source": [
    "drugs_alcohol_positive_list = drugs_alcohol_positive_percentage.collect()\n",
    "x = [c[0] for c in drugs_alcohol_positive_list]\n",
    "y = [c[2] for c in drugs_alcohol_positive_list]\n",
    "plt.bar(x,y, label = \"drugs_positive\")"
   ]
  },
  {
   "cell_type": "code",
   "execution_count": 36,
   "metadata": {},
   "outputs": [
    {
     "data": {
      "text/plain": [
       "<BarContainer object of 4 artists>"
      ]
     },
     "execution_count": 36,
     "metadata": {},
     "output_type": "execute_result"
    },
    {
     "data": {
      "image/png": "[encoded data removed]",
      "text/plain": [
       "<Figure size 432x288 with 1 Axes>"
      ]
     },
     "metadata": {
      "needs_background": "light"
     },
     "output_type": "display_data"
    }
   ],
   "source": [
    "drugs_alcohol_negative_list = drugs_alcohol_negative_percentage.collect()\n",
    "x = [c[0] for c in drugs_alcohol_negative_list]\n",
    "y = [c[2] for c in drugs_alcohol_negative_list]\n",
    "plt.bar(x,y, label = \"drugs_positive\")"
   ]
  }
 ],
 "metadata": {
  "kernelspec": {
   "display_name": "Python 3",
   "language": "python",
   "name": "python3"
  },
  "language_info": {
   "codemirror_mode": {
    "name": "ipython",
    "version": 3
   },
   "file_extension": ".py",
   "mimetype": "text/x-python",
   "name": "python",
   "nbconvert_exporter": "python",
   "pygments_lexer": "ipython3",
   "version": "3.8.2"
  }
 },
 "nbformat": 4,
 "nbformat_minor": 4
}
