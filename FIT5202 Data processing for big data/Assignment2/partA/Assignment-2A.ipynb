{
 "cells": [
  {
   "cell_type": "markdown",
   "metadata": {},
   "source": [
    "# 1. Data preparation and exploration\n",
    "## 1.1 Creating Spark Session\n",
    "### 1. Create a SparkConf object for using as many local cores as possible"
   ]
  },
  {
   "cell_type": "code",
   "execution_count": 1,
   "metadata": {
    "scrolled": true
   },
   "outputs": [
    {
     "name": "stdout",
     "output_type": "stream",
     "text": [
      "Requirement already satisfied: sklearn in /home/student/.local/lib/python3.8/site-packages (0.0)\n",
      "Requirement already satisfied: scikit-learn in /home/student/.local/lib/python3.8/site-packages (from sklearn) (0.23.2)\n",
      "Requirement already satisfied: threadpoolctl>=2.0.0 in /home/student/.local/lib/python3.8/site-packages (from scikit-learn->sklearn) (2.1.0)\n",
      "Requirement already satisfied: numpy>=1.13.3 in /home/student/.local/lib/python3.8/site-packages (from scikit-learn->sklearn) (1.19.0)\n",
      "Requirement already satisfied: scipy>=0.19.1 in /home/student/.local/lib/python3.8/site-packages (from scikit-learn->sklearn) (1.5.2)\n",
      "Requirement already satisfied: joblib>=0.11 in /home/student/.local/lib/python3.8/site-packages (from scikit-learn->sklearn) (0.16.0)\n",
      "Note: you may need to restart the kernel to use updated packages.\n"
     ]
    }
   ],
   "source": [
    "pip install sklearn"
   ]
  },
  {
   "cell_type": "code",
   "execution_count": 2,
   "metadata": {
    "scrolled": true
   },
   "outputs": [],
   "source": [
    "from pyspark import SparkConf\n",
    "from pyspark import SparkContext\n",
    "from pyspark.sql import SparkSession\n",
    "from pyspark.sql.types import *\n",
    "import pyspark.sql.functions as F\n",
    "from pyspark.sql.functions import udf"
   ]
  },
  {
   "cell_type": "code",
   "execution_count": 3,
   "metadata": {},
   "outputs": [],
   "source": [
    "# using as many local cores as possible\n",
    "master = \"local[*]\"\n",
    "app_name = \"Detecting hacking activities\"\n",
    "# Set the maximum size of the partition to a smaller value so that small files will also be divided\n",
    "spark_conf = SparkConf().setMaster(master).setAppName(app_name).set(\"spark.files.maxPartitionBytes\", \"13421772\")"
   ]
  },
  {
   "cell_type": "markdown",
   "metadata": {},
   "source": [
    "### 2. Then create a SparkSession using the SparkConf object."
   ]
  },
  {
   "cell_type": "code",
   "execution_count": 4,
   "metadata": {},
   "outputs": [],
   "source": [
    "spark = SparkSession.builder.config(conf = spark_conf).getOrCreate()\n",
    "sc = spark.sparkContext"
   ]
  },
  {
   "cell_type": "markdown",
   "metadata": {},
   "source": [
    "## 1.2 Loading the data"
   ]
  },
  {
   "cell_type": "markdown",
   "metadata": {},
   "source": [
    "### 1. Load each activity data into a Spark dataframe and cache the data"
   ]
  },
  {
   "cell_type": "code",
   "execution_count": 5,
   "metadata": {},
   "outputs": [],
   "source": [
    "# In order to speed up the loading process, specify the schema before reading the data into dataframes\n",
    "memory_schema = StructType([\n",
    "    StructField(\"ts\", IntegerType()),\n",
    "    StructField(\"PID\", IntegerType()),\n",
    "    StructField(\"MINFLT\", IntegerType()),\n",
    "    StructField(\"MAJFLT\", IntegerType()),\n",
    "    StructField(\"VSTEXT\", IntegerType()),\n",
    "    StructField(\"VSIZE\", DoubleType()),\n",
    "    StructField(\"RSIZE\", IntegerType()),\n",
    "    StructField(\"VGROW\", IntegerType()),\n",
    "    StructField(\"RGROW\", IntegerType()),\n",
    "    StructField(\"MEM\", DoubleType()),\n",
    "    StructField(\"CMD\", StringType()),\n",
    "    StructField(\"attack\", IntegerType()),\n",
    "    StructField(\"type\", StringType()),\n",
    "])\n",
    "\n",
    "process_schema = StructType([\n",
    "    StructField(\"ts\", IntegerType()),\n",
    "    StructField(\"PID\", IntegerType()),\n",
    "    StructField(\"TRUN\", IntegerType()),\n",
    "    StructField(\"TSLPI\", IntegerType()),\n",
    "    StructField(\"TSLPU\", IntegerType()),\n",
    "    StructField(\"POLI\", StringType()),\n",
    "    StructField(\"NICE\", IntegerType()),\n",
    "    StructField(\"PRI\", IntegerType()),\n",
    "    StructField(\"PTPR\", IntegerType()),\n",
    "    StructField(\"CPUNR\", IntegerType()),\n",
    "    StructField(\"Status\", StringType()),\n",
    "    StructField(\"EXC\", IntegerType()),\n",
    "    StructField(\"State\", StringType()),\n",
    "    StructField(\"CPU\", DoubleType()),\n",
    "    StructField(\"CMD\", StringType()),\n",
    "    StructField(\"attack\", IntegerType()),\n",
    "    StructField(\"type\", StringType()),\n",
    "])\n"
   ]
  },
  {
   "cell_type": "code",
   "execution_count": 6,
   "metadata": {},
   "outputs": [],
   "source": [
    "memory_df = spark.read.csv(\"linux_memory*\", header = True, schema = memory_schema).cache()\n",
    "process_df = spark.read.csv(\"linux_process*\", header = True, schema = process_schema).cache()"
   ]
  },
  {
   "cell_type": "code",
   "execution_count": 7,
   "metadata": {},
   "outputs": [
    {
     "name": "stdout",
     "output_type": "stream",
     "text": [
      "2000000\n",
      "1927968\n"
     ]
    }
   ],
   "source": [
    "# print out the row count of each dataframe\n",
    "print(memory_df.count())\n",
    "print(process_df.count())"
   ]
  },
  {
   "cell_type": "markdown",
   "metadata": {},
   "source": [
    "### 2. For each column in each dataframe above, \n",
    "○ Check the null data (if any) and print out the corresponding count in each column"
   ]
  },
  {
   "cell_type": "code",
   "execution_count": 8,
   "metadata": {
    "scrolled": true
   },
   "outputs": [
    {
     "name": "stdout",
     "output_type": "stream",
     "text": [
      "+---+---+------+------+------+-----+-----+-----+-----+---+---+------+----+\n",
      "| ts|PID|MINFLT|MAJFLT|VSTEXT|VSIZE|RSIZE|VGROW|RGROW|MEM|CMD|attack|type|\n",
      "+---+---+------+------+------+-----+-----+-----+-----+---+---+------+----+\n",
      "|  0|  0|  9737|448868| 27907|    0|83545|50912|10294|  0|  0|     0|   0|\n",
      "+---+---+------+------+------+-----+-----+-----+-----+---+---+------+----+\n",
      "\n"
     ]
    }
   ],
   "source": [
    "null_count = []\n",
    "for col in memory_df.columns:\n",
    "#     If the value is empty, it is recorded in count，modified column name as it's original name\n",
    "    null_count.append(F.count(F.when(F.isnull(col),col)).alias(col))\n",
    "#     The Column parameter type of the select method is overloaded to support SQL's select syntax\n",
    "memory_df.select(null_count).show()"
   ]
  },
  {
   "cell_type": "code",
   "execution_count": 9,
   "metadata": {
    "scrolled": false
   },
   "outputs": [
    {
     "name": "stdout",
     "output_type": "stream",
     "text": [
      "+---+---+----+-----+-----+----+----+---+----+-----+------+---+-----+---+---+------+----+\n",
      "| ts|PID|TRUN|TSLPI|TSLPU|POLI|NICE|PRI|PTPR|CPUNR|Status|EXC|State|CPU|CMD|attack|type|\n",
      "+---+---+----+-----+-----+----+----+---+----+-----+------+---+-----+---+---+------+----+\n",
      "|  0|  0|   0|    0|    0|   0|   0|  0|   0|    0|     0|  0|    0|  0|  0|     0|   0|\n",
      "+---+---+----+-----+-----+----+----+---+----+-----+------+---+-----+---+---+------+----+\n",
      "\n"
     ]
    }
   ],
   "source": [
    "null_count = []\n",
    "for col in process_df.columns:\n",
    "    null_count.append(F.count(F.when(F.isnull(col),col)).alias(col))\n",
    "process_df.select(null_count).show()"
   ]
  },
  {
   "cell_type": "markdown",
   "metadata": {},
   "source": [
    "It can be seen that the MINFLT|MAJFLT|VSTEXT|RSIZE|VGROW|RGROW column in memory df contains null values, which is the error when casting the type\n",
    "some data may not fully comply with the schema, we need to import them as StringType and convert the type after further processing"
   ]
  },
  {
   "cell_type": "code",
   "execution_count": 10,
   "metadata": {},
   "outputs": [],
   "source": [
    "memory_schema = StructType([\n",
    "    StructField(\"ts\", IntegerType()),\n",
    "    StructField(\"PID\", IntegerType()),\n",
    "    StructField(\"MINFLT\", StringType()),\n",
    "    StructField(\"MAJFLT\", StringType()),\n",
    "    StructField(\"VSTEXT\", StringType()),\n",
    "    StructField(\"VSIZE\", DoubleType()),\n",
    "    StructField(\"RSIZE\", StringType()),\n",
    "    StructField(\"VGROW\", StringType()),\n",
    "    StructField(\"RGROW\", StringType()),\n",
    "    StructField(\"MEM\", DoubleType()),\n",
    "    StructField(\"CMD\", StringType()),\n",
    "    StructField(\"attack\", IntegerType()),\n",
    "    StructField(\"type\", StringType()),\n",
    "])\n",
    "memory_df = spark.read.csv(\"linux_memory*\", header = True, schema = memory_schema).cache()"
   ]
  },
  {
   "cell_type": "code",
   "execution_count": 11,
   "metadata": {
    "scrolled": false
   },
   "outputs": [
    {
     "name": "stdout",
     "output_type": "stream",
     "text": [
      "+------+-----------+\n",
      "| RSIZE|IntegerType|\n",
      "+------+-----------+\n",
      "|224.2M|       null|\n",
      "|224.2M|       null|\n",
      "|224.2M|       null|\n",
      "|224.2M|       null|\n",
      "|224.2M|       null|\n",
      "|224.2M|       null|\n",
      "|    0K|       null|\n",
      "|    0K|       null|\n",
      "|    0K|       null|\n",
      "|    0K|       null|\n",
      "+------+-----------+\n",
      "only showing top 10 rows\n",
      "\n"
     ]
    }
   ],
   "source": [
    "test_df = memory_df.select(\"RSIZE\", F.col(\"RSIZE\").cast(IntegerType()).alias(\"IntegerType\"))\n",
    "test_df.filter(F.col(\"IntegerType\").isNull()).show(10)"
   ]
  },
  {
   "cell_type": "code",
   "execution_count": 12,
   "metadata": {},
   "outputs": [
    {
     "data": {
      "text/plain": [
       "[Row(VGROW='380 2', IntegerType=None),\n",
       " Row(VGROW='5552 1', IntegerType=None),\n",
       " Row(VGROW='0 7', IntegerType=None),\n",
       " Row(VGROW='0 1', IntegerType=None),\n",
       " Row(VGROW='0 2', IntegerType=None)]"
      ]
     },
     "execution_count": 12,
     "metadata": {},
     "output_type": "execute_result"
    }
   ],
   "source": [
    "test_df = memory_df.select(\"VGROW\", F.col(\"VGROW\").cast(IntegerType()).alias(\"IntegerType\"))\n",
    "test_df.filter(F.col(\"IntegerType\").isNull()).tail(5)"
   ]
  },
  {
   "cell_type": "markdown",
   "metadata": {},
   "source": [
    "After inspection, it is found that the data contains k and m representing 1000 and 1000000,  \n",
    "some data contains spaces, we need to convert them"
   ]
  },
  {
   "cell_type": "code",
   "execution_count": 13,
   "metadata": {},
   "outputs": [],
   "source": [
    "def func(num):\n",
    "#     Remove spaces, process k and m separately\n",
    "    num = num.replace(' ','')\n",
    "    if num.find('M') != -1:\n",
    "        num = int(float(num[:-1]) * 1000000)\n",
    "    elif num.find('K') != -1:\n",
    "        num = int(float(num[:-1]) * 1000)\n",
    "    return num\n",
    "# finally convert to string\n",
    "convert = udf(func, StringType())"
   ]
  },
  {
   "cell_type": "code",
   "execution_count": 14,
   "metadata": {},
   "outputs": [],
   "source": [
    "memory_df = memory_df.withColumn(\"MINFLT\", convert(\"MINFLT\").cast(IntegerType()))\n",
    "memory_df = memory_df.withColumn(\"MAJFLT\", convert(\"MAJFLT\").cast(IntegerType()))\n",
    "memory_df = memory_df.withColumn(\"VSTEXT\", convert(\"VSTEXT\").cast(IntegerType()))\n",
    "memory_df = memory_df.withColumn(\"RSIZE\", convert(\"RSIZE\").cast(DoubleType()))\n",
    "memory_df = memory_df.withColumn(\"VGROW\", convert(\"VGROW\").cast(DoubleType()))\n",
    "memory_df = memory_df.withColumn(\"RGROW\", convert(\"RGROW\").cast(DoubleType()))"
   ]
  },
  {
   "cell_type": "code",
   "execution_count": 15,
   "metadata": {},
   "outputs": [
    {
     "name": "stdout",
     "output_type": "stream",
     "text": [
      "+---+---+------+------+------+-----+-----+-----+-----+---+---+------+----+\n",
      "| ts|PID|MINFLT|MAJFLT|VSTEXT|VSIZE|RSIZE|VGROW|RGROW|MEM|CMD|attack|type|\n",
      "+---+---+------+------+------+-----+-----+-----+-----+---+---+------+----+\n",
      "|  0|  0|     0|     0|     0|    0|    0|    0|    0|  0|  0|     0|   0|\n",
      "+---+---+------+------+------+-----+-----+-----+-----+---+---+------+----+\n",
      "\n"
     ]
    }
   ],
   "source": [
    "null_count = []\n",
    "for col in memory_df.columns:\n",
    "    null_count.append(F.count(F.when(F.isnull(col),col)).alias(col))\n",
    "memory_df.select(null_count).show()\n",
    "# Now processing is complete"
   ]
  },
  {
   "cell_type": "markdown",
   "metadata": {},
   "source": [
    "## 1.3 Exploring the data\n",
    "### 1. Show the count of attack and non-attack in each activity based on the column “attack”\n",
    "○ Do you see any class imbalance? Examine and describe what you observe"
   ]
  },
  {
   "cell_type": "code",
   "execution_count": 16,
   "metadata": {},
   "outputs": [
    {
     "name": "stdout",
     "output_type": "stream",
     "text": [
      "+------+-------+\n",
      "|attack|  count|\n",
      "+------+-------+\n",
      "|     1| 205623|\n",
      "|     0|1794377|\n",
      "+------+-------+\n",
      "\n"
     ]
    }
   ],
   "source": [
    "# The number of non-attacks is several times that of attacks\n",
    "memory_df.groupby(\"attack\").count().show()"
   ]
  },
  {
   "cell_type": "code",
   "execution_count": 17,
   "metadata": {
    "scrolled": true
   },
   "outputs": [
    {
     "name": "stdout",
     "output_type": "stream",
     "text": [
      "+------+-------+\n",
      "|attack|  count|\n",
      "+------+-------+\n",
      "|     1| 291364|\n",
      "|     0|1636604|\n",
      "+------+-------+\n",
      "\n"
     ]
    }
   ],
   "source": [
    "process_df.groupby(\"attack\").count().show()"
   ]
  },
  {
   "cell_type": "markdown",
   "metadata": {},
   "source": [
    "### then show the count of each kind of attack in process activity based on the column “type”.  "
   ]
  },
  {
   "cell_type": "code",
   "execution_count": 18,
   "metadata": {},
   "outputs": [
    {
     "name": "stdout",
     "output_type": "stream",
     "text": [
      "+---------+-----+\n",
      "|     type|count|\n",
      "+---------+-----+\n",
      "|      xss|17759|\n",
      "| password|51409|\n",
      "| scanning|38449|\n",
      "|     ddos|71603|\n",
      "|     mitm|  112|\n",
      "|injection|41311|\n",
      "|      dos|70721|\n",
      "+---------+-----+\n",
      "\n"
     ]
    }
   ],
   "source": [
    "process_df.filter(F.col(\"attack\") == 1).groupby(\"type\").count().show()"
   ]
  },
  {
   "cell_type": "code",
   "execution_count": 19,
   "metadata": {
    "scrolled": true
   },
   "outputs": [
    {
     "name": "stdout",
     "output_type": "stream",
     "text": [
      "+---------+-----+\n",
      "|     type|count|\n",
      "+---------+-----+\n",
      "| password|26016|\n",
      "|     ddos|45689|\n",
      "|     mitm|  112|\n",
      "|injection|58523|\n",
      "|      dos|75283|\n",
      "+---------+-----+\n",
      "\n"
     ]
    }
   ],
   "source": [
    "memory_df.filter(F.col(\"attack\") == 1).groupby(\"type\").count().show()"
   ]
  },
  {
   "cell_type": "markdown",
   "metadata": {},
   "source": [
    "### 2. For each numeric feature in each activity, show the basic statistics (including count, mean, stddev, min, max)"
   ]
  },
  {
   "cell_type": "code",
   "execution_count": 20,
   "metadata": {},
   "outputs": [],
   "source": [
    "# Get the type of each column\n",
    "process_numeric = [col.name for col in process_df.schema \n",
    "                   if isinstance(col.dataType, IntegerType) or isinstance(col.dataType, DoubleType)]\n",
    "memory_numeric = [col.name for col in memory_df.schema \n",
    "                  if isinstance(col.dataType, IntegerType) or isinstance(col.dataType, DoubleType)]"
   ]
  },
  {
   "cell_type": "code",
   "execution_count": 21,
   "metadata": {},
   "outputs": [
    {
     "name": "stdout",
     "output_type": "stream",
     "text": [
      "+-------+--------------------+-----------------+------------------+-----------------+--------------------+-----------------+------------------+-------+------------------+--------------------+--------------------+------------------+\n",
      "|summary|                  ts|              PID|              TRUN|            TSLPI|               TSLPU|             NICE|               PRI|   PTPR|             CPUNR|                 EXC|                 CPU|            attack|\n",
      "+-------+--------------------+-----------------+------------------+-----------------+--------------------+-----------------+------------------+-------+------------------+--------------------+--------------------+------------------+\n",
      "|  count|             1927968|          1927968|           1927968|          1927968|             1927968|          1927968|           1927968|1927968|           1927968|             1927968|             1927968|           1927968|\n",
      "|   mean|1.5563198311840394E9|5068.709770597852|0.0632287465352122|3.508334163222626|3.610018423542299...|4.634469555511295|111.26826741937626|    0.0|1.9210142491991569|0.030275398761805176|0.022385272992102183|0.1511249149363475|\n",
      "| stddev|   771350.0248303566|4987.784329320465|0.2478258709041639|6.988459728531808| 0.04421874419214536|8.403189864752136| 22.62444506210303|    0.0|1.5274047225902738|  1.4619498567691969| 0.13628943687183998|0.3581706877473972|\n",
      "|    min|          1554216855|             1007|                 0|                0|                   0|                0|                 0|      0|                 0|                   0|                 0.0|                 0|\n",
      "|    25%|          1556191786|             2501|                 0|                1|                   0|                0|               100|      0|                 1|                   0|                 0.0|                 0|\n",
      "|    50%|          1556497490|             3103|                 0|                1|                   0|                0|               120|      0|                 2|                   0|                 0.0|                 0|\n",
      "|    75%|          1556795693|             4374|                 0|                3|                   0|                0|               120|      0|                 3|                   0|                0.01|                 0|\n",
      "|    max|          1557593017|            53080|                12|               70|                  21|               20|               139|      0|                 5|                 127|                4.02|                 1|\n",
      "+-------+--------------------+-----------------+------------------+-----------------+--------------------+-----------------+------------------+-------+------------------+--------------------+--------------------+------------------+\n",
      "\n"
     ]
    }
   ],
   "source": [
    "# Use summary to show details\n",
    "process_df.select(process_numeric).summary().show()"
   ]
  },
  {
   "cell_type": "code",
   "execution_count": 22,
   "metadata": {
    "scrolled": false
   },
   "outputs": [
    {
     "name": "stdout",
     "output_type": "stream",
     "text": [
      "+-------+------------------+-----------------+------------------+--------------------+-----------------+-----------------+------------------+-----------------+------------------+--------------------+-------------------+\n",
      "|summary|                ts|              PID|            MINFLT|              MAJFLT|           VSTEXT|            VSIZE|             RSIZE|            VGROW|             RGROW|                 MEM|             attack|\n",
      "+-------+------------------+-----------------+------------------+--------------------+-----------------+-----------------+------------------+-----------------+------------------+--------------------+-------------------+\n",
      "|  count|           2000000|          2000000|           2000000|             2000000|          2000000|          2000000|           2000000|          2000000|           2000000|             2000000|            2000000|\n",
      "|   mean|1.55624581707609E9|      4999.360446|        983.344344|       987846.478731|    46453.2681675|4496.419966445937|23722.888664202568|984.4668735599993|      483.17466255|0.003385165000012971|          0.1028115|\n",
      "| stddev| 984463.3682796999|4887.313351921402|19229.610980642414|1.4842874245323911E7|658730.2055745379|9046.338093398834|1986383.1808735318|86174.82585202297|1491.4761059171876|0.010943425779985772|0.30371259701965425|\n",
      "|    min|        1554216855|             1007|                 0|                   0|                0|              0.0|           -9728.0|       -9392000.0|               0.0|                 0.0|                  0|\n",
      "|    25%|        1555467585|             2242|                 0|                   0|               25|              0.0|               0.0|              0.0|               0.0|                 0.0|                  0|\n",
      "|    50%|        1556443955|             2847|                10|                   0|              148|              0.0|              98.2|              0.0|               0.0|                 0.0|                  0|\n",
      "|    75%|        1556859140|             4374|               132|                 173|             2132|            732.1|            2608.0|              0.0|               0.0|                 0.0|                  0|\n",
      "|    max|        1558355716|            53096|           8050000|           224400000|         11200000|          88040.0|           2.244E8|          1.116E7|           98920.0|                0.44|                  1|\n",
      "+-------+------------------+-----------------+------------------+--------------------+-----------------+-----------------+------------------+-----------------+------------------+--------------------+-------------------+\n",
      "\n"
     ]
    }
   ],
   "source": [
    "memory_df.select(memory_numeric).summary().show()"
   ]
  },
  {
   "cell_type": "markdown",
   "metadata": {},
   "source": [
    "### for each non-numeric feature in each activity, display the top-10 values and the corresponding counts."
   ]
  },
  {
   "cell_type": "code",
   "execution_count": 23,
   "metadata": {
    "scrolled": true
   },
   "outputs": [
    {
     "name": "stdout",
     "output_type": "stream",
     "text": [
      "+----+-------+\n",
      "|POLI|  count|\n",
      "+----+-------+\n",
      "|norm|1861558|\n",
      "|   0|  53216|\n",
      "|   -|  13194|\n",
      "+----+-------+\n",
      "\n",
      "+------+-------+\n",
      "|Status|  count|\n",
      "+------+-------+\n",
      "|     -|1416322|\n",
      "|     0| 438984|\n",
      "|    NE|  48602|\n",
      "|     N|  23313|\n",
      "|    NS|    743|\n",
      "|     C|      3|\n",
      "|    NC|      1|\n",
      "+------+-------+\n",
      "\n",
      "+-----+-------+\n",
      "|State|  count|\n",
      "+-----+-------+\n",
      "|    S|1676350|\n",
      "|    I|  98986|\n",
      "|    R|  84753|\n",
      "|    E|  66410|\n",
      "|    Z|   1118|\n",
      "|    D|    344|\n",
      "|    T|      7|\n",
      "+-----+-------+\n",
      "\n",
      "+--------------+------+\n",
      "|           CMD| count|\n",
      "+--------------+------+\n",
      "|          atop|441180|\n",
      "|       apache2|313143|\n",
      "|      vmtoolsd|112029|\n",
      "|          Xorg| 66813|\n",
      "|      nautilus| 63449|\n",
      "|gnome-terminal| 47628|\n",
      "|        compiz| 44386|\n",
      "|    irqbalance| 44324|\n",
      "|      ostinato| 42979|\n",
      "|         drone| 41390|\n",
      "+--------------+------+\n",
      "only showing top 10 rows\n",
      "\n",
      "+---------+-------+\n",
      "|     type|  count|\n",
      "+---------+-------+\n",
      "|   normal|1636604|\n",
      "|     ddos|  71603|\n",
      "|      dos|  70721|\n",
      "| password|  51409|\n",
      "|injection|  41311|\n",
      "| scanning|  38449|\n",
      "|      xss|  17759|\n",
      "|     mitm|    112|\n",
      "+---------+-------+\n",
      "\n"
     ]
    }
   ],
   "source": [
    "from pyspark.sql.functions import desc\n",
    "process_non_numeric = [col.name for col in process_df.schema if col.name not in process_numeric]\n",
    "for col in process_non_numeric:\n",
    "    process_df.select(col).groupby(col).count().orderBy(desc('count')).show(10)"
   ]
  },
  {
   "cell_type": "code",
   "execution_count": 24,
   "metadata": {
    "scrolled": true
   },
   "outputs": [
    {
     "name": "stdout",
     "output_type": "stream",
     "text": [
      "+----------+------+\n",
      "|       CMD| count|\n",
      "+----------+------+\n",
      "|      atop|325985|\n",
      "|   apache2| 89761|\n",
      "| jfsCommit| 81714|\n",
      "|  vmtoolsd| 77871|\n",
      "|      Xorg| 49981|\n",
      "|  nautilus| 48356|\n",
      "|irqbalance| 44387|\n",
      "|    compiz| 44356|\n",
      "|  ostinato| 43024|\n",
      "|     drone| 41392|\n",
      "+----------+------+\n",
      "only showing top 10 rows\n",
      "\n",
      "+---------+-------+\n",
      "|     type|  count|\n",
      "+---------+-------+\n",
      "|   normal|1794377|\n",
      "|      dos|  75283|\n",
      "|injection|  58523|\n",
      "|     ddos|  45689|\n",
      "| password|  26016|\n",
      "|     mitm|    112|\n",
      "+---------+-------+\n",
      "\n"
     ]
    }
   ],
   "source": [
    "memory_non_numeric = [col.name for col in memory_df.schema if col.name not in memory_numeric]\n",
    "for col in memory_non_numeric:\n",
    "    memory_df.select(col).groupby(col).count().orderBy(desc('count')).show(10)"
   ]
  },
  {
   "cell_type": "markdown",
   "metadata": {},
   "source": [
    "### 3. For each activity, present two plots worthy of presenting to the StopHacking company, describe your plots and discuss the findings from the plots"
   ]
  },
  {
   "cell_type": "code",
   "execution_count": 25,
   "metadata": {
    "scrolled": true
   },
   "outputs": [],
   "source": [
    "import matplotlib.pylab as plt\n",
    "import numpy as np\n",
    "# using sampling before plotting\n",
    "process_sampled = process_df.sample(fraction = 0.1).toPandas()"
   ]
  },
  {
   "cell_type": "markdown",
   "metadata": {},
   "source": [
    "### Process activity\n",
    "The histogram divides the range of the entire PRI observation data into a series of intervals. The value in each interval is called the frequency (vertical axis). We can see that the attack type PRI is more concentrated in the range of 100-120 than the common type PRI. , There is almost no data on the highest priority"
   ]
  },
  {
   "cell_type": "code",
   "execution_count": 26,
   "metadata": {
    "scrolled": true
   },
   "outputs": [
    {
     "data": {
      "image/png": "[encoded data removed]",
      "text/plain": [
       "<Figure size 432x288 with 1 Axes>"
      ]
     },
     "metadata": {
      "needs_background": "light"
     },
     "output_type": "display_data"
    }
   ],
   "source": [
    "from matplotlib.patches import Rectangle\n",
    "normal = process_sampled[process_sampled.attack == 0]['PRI']\n",
    "attack = process_sampled[process_sampled.attack == 1]['PRI']\n",
    "plt.hist([normal, attack],5)\n",
    "plt.xlabel('Priority')\n",
    "plt.ylabel('count')\n",
    "labels= [\"normal\",\"attack\"]\n",
    "plt.legend(labels = labels)\n",
    "plt.show()"
   ]
  },
  {
   "cell_type": "markdown",
   "metadata": {},
   "source": [
    "Using the scatter chart to observe the data distribution, we can see that the common type of EXC is more concentrated than the attack type of EXC in the range of 0-20, and there are data more than 120 "
   ]
  },
  {
   "cell_type": "code",
   "execution_count": 27,
   "metadata": {},
   "outputs": [
    {
     "name": "stderr",
     "output_type": "stream",
     "text": [
      "<ipython-input-27-4a595588c042>:4: MatplotlibDeprecationWarning: Adding an axes using the same arguments as a previous axes currently reuses the earlier instance.  In a future version, a new instance will always be created and returned.  Meanwhile, this warning can be suppressed, and the future behavior ensured, by passing a unique label to each axes instance.\n",
      "  ax = plt.subplot()\n",
      "<ipython-input-27-4a595588c042>:6: UserWarning: FixedFormatter should only be used together with FixedLocator\n",
      "  plt.gca().set_yticklabels([\"0\",\"normal\",\"attack\"])\n"
     ]
    },
    {
     "data": {
      "image/png": "[encoded data removed]",
      "text/plain": [
       "<Figure size 432x288 with 1 Axes>"
      ]
     },
     "metadata": {
      "needs_background": "light"
     },
     "output_type": "display_data"
    }
   ],
   "source": [
    "from matplotlib.ticker import MultipleLocator, FormatStrFormatter\n",
    "plt.scatter(process_sampled['EXC'], process_sampled['attack'],label = 'Exit code of a terminated process')\n",
    "# Add a subgraph and set the interval of the y-axis value to 1\n",
    "ax = plt.subplot()\n",
    "ax.yaxis.set_major_locator(MultipleLocator(1))\n",
    "plt.gca().set_yticklabels([\"0\",\"normal\",\"attack\"])\n",
    "plt.figlegend(loc=\"upper left\")\n",
    "plt.xlabel(\"EXC\")\n",
    "plt.show()"
   ]
  },
  {
   "cell_type": "code",
   "execution_count": 28,
   "metadata": {},
   "outputs": [],
   "source": [
    "memory_sampled = memory_df.sample(fraction = 0.01).toPandas()"
   ]
  },
  {
   "cell_type": "markdown",
   "metadata": {},
   "source": [
    "### Memory activity\n",
    "Using boxplot to observe the data distribution, we can see that the attack type VSTEXT has a higher average value than the ordinary type VSTEXT, and there are more data at the highest point, which shows that a lot of virtual memory size used by the shared text."
   ]
  },
  {
   "cell_type": "code",
   "execution_count": 29,
   "metadata": {},
   "outputs": [
    {
     "data": {
      "image/png": "[encoded data removed]",
      "text/plain": [
       "<Figure size 432x288 with 1 Axes>"
      ]
     },
     "metadata": {
      "needs_background": "light"
     },
     "output_type": "display_data"
    }
   ],
   "source": [
    "normal = memory_sampled[memory_sampled.attack == 0]['VSTEXT']\n",
    "attack = memory_sampled[memory_sampled.attack == 1]['VSTEXT']\n",
    "plt.boxplot([np.log10(normal + 1), np.log10(attack + 1)],labels = ['normal','attack'])\n",
    "plt.ylabel('VSTEXT')\n",
    "plt.show()"
   ]
  },
  {
   "cell_type": "markdown",
   "metadata": {},
   "source": [
    "Use the scatter chart to observe the difference between VGROW and RGROW in the normal type and the attack type at the same time. It can be seen that RGROW becomes clustered at a larger value in the attack type, but VGROW does not change much(still evenly distributed), indicating that RGROW and attack is more relevant"
   ]
  },
  {
   "cell_type": "code",
   "execution_count": 30,
   "metadata": {
    "scrolled": true
   },
   "outputs": [
    {
     "name": "stderr",
     "output_type": "stream",
     "text": [
      "/home/student/.local/lib/python3.8/site-packages/pandas/core/series.py:679: RuntimeWarning: divide by zero encountered in log10\n",
      "  result = getattr(ufunc, method)(*inputs, **kwargs)\n",
      "/home/student/.local/lib/python3.8/site-packages/pandas/core/series.py:679: RuntimeWarning: invalid value encountered in log10\n",
      "  result = getattr(ufunc, method)(*inputs, **kwargs)\n"
     ]
    },
    {
     "data": {
      "image/png": "[encoded data removed]",
      "text/plain": [
       "<Figure size 432x288 with 1 Axes>"
      ]
     },
     "metadata": {
      "needs_background": "light"
     },
     "output_type": "display_data"
    }
   ],
   "source": [
    "x = memory_sampled[memory_sampled.attack == 0]['VGROW']\n",
    "y = memory_sampled[memory_sampled.attack == 0]['RGROW']\n",
    "plt.scatter(np.log10(x) + 1, np.log10(y) + 1, s=300, label = 'normal', c = 'blue', marker='.', edgecolors= 'white')\n",
    "x = memory_sampled[memory_sampled.attack == 1]['VGROW']\n",
    "y = memory_sampled[memory_sampled.attack == 1]['RGROW']\n",
    "plt.scatter(np.log10(x) + 1, np.log10(y) + 1, s=300, label = 'attack', c = 'red', marker='.', edgecolors= 'white')\n",
    "\n",
    "# 显示图例\n",
    "plt.legend()\n",
    "plt.xlabel('VGROW')\n",
    "plt.ylabel('RGROW')\n",
    "plt.show()"
   ]
  },
  {
   "cell_type": "markdown",
   "metadata": {},
   "source": [
    "# 2. Feature extraction and ML training\n",
    "## 2.1 Preparing the training data and testing data \n",
    "### 1. Randomly split the dataset into 80% training data and 20% testing data for each use case\n",
    "### 2. With the class imbalance observed from 1.3.1, for the binary classification use case 1 & 2, prepare rebalanced training data, with attack events and non-attack events being 1:2 ratio, while using 20% attack events data from the training data from 2.1.1. Cache the rebalanced training data, and display the count of each event's data"
   ]
  },
  {
   "cell_type": "code",
   "execution_count": 192,
   "metadata": {},
   "outputs": [],
   "source": [
    "# Randomly split the dataset into 80% training data and 20%\n",
    "train_process, test_process = process_df.randomSplit([0.8, 0.2])\n",
    "#  using 20% attack events data from the training data\n",
    "train_process_attack = train_process.filter(F.col('attack') == 1).sample(0.2)\n",
    "train_process_normal = train_process.filter(F.col('attack') == 0)\n",
    "# attack events and non-attack events being 1:2 ratio\n",
    "train_process_normal = train_process_normal.sample(train_process_attack.count() * 2 / train_process_normal.count())\n",
    "train_process = train_process_normal.union(train_process_attack).cache()"
   ]
  },
  {
   "cell_type": "code",
   "execution_count": 193,
   "metadata": {},
   "outputs": [],
   "source": [
    "train_memory, test_memory = memory_df.randomSplit([0.8, 0.2])\n",
    "train_memory_attack = train_memory.filter(F.col('attack') == 1).sample(0.2)\n",
    "train_memory_normal = train_memory.filter(F.col('attack') == 0)\n",
    "train_memory_normal = train_memory_normal.sample(train_memory_attack.count() * 2 / train_memory_normal.count())\n",
    "train_memory = train_memory_normal.union(train_memory_attack).cache()"
   ]
  },
  {
   "cell_type": "markdown",
   "metadata": {},
   "source": [
    "## 2.2 Preparing features, labels and models\n",
    "### 1. Based on data exploration from 1.3.3, which features would you select? Discuss the reason for selecting them and how you plan to further transform them"
   ]
  },
  {
   "cell_type": "markdown",
   "metadata": {},
   "source": [
    "### Process activity"
   ]
  },
  {
   "cell_type": "markdown",
   "metadata": {},
   "source": [
    "According to 1.3.3, PRI and EXC are used, they can distinguish whether they are attack or not, NICE is another priority so it is used. There are also all the String type feature, not taken into account when doing the diagram, so also selected. I don't use CMD, there are too many kinds of CMD, if we use it, it may make the content in the train not in the test. Then I'm not choosing ts and PID, because the time or process number of the attacker is not fixed at all, they are not related. Type can't be chosen either, because only attack type will have a type, which is equivalent to directly determine whether it is an attack or not."
   ]
  },
  {
   "cell_type": "code",
   "execution_count": 194,
   "metadata": {},
   "outputs": [],
   "source": [
    "cols = ['POLI','NICE','PRI','Status','EXC','State','attack']"
   ]
  },
  {
   "cell_type": "code",
   "execution_count": 195,
   "metadata": {},
   "outputs": [],
   "source": [
    "process_train_df = train_process.select(cols)\n",
    "test_process = test_process.select(cols)"
   ]
  },
  {
   "cell_type": "code",
   "execution_count": 196,
   "metadata": {},
   "outputs": [
    {
     "name": "stderr",
     "output_type": "stream",
     "text": [
      "/home/student/.local/lib/python3.8/site-packages/pyspark/sql/dataframe.py:1894: UserWarning: to_replace is a dict and value is not None. value will be ignored.\n",
      "  warnings.warn(\"to_replace is a dict and value is not None. value will be ignored.\")\n"
     ]
    }
   ],
   "source": [
    "# First convert POLI according to our custom Transformer dict\n",
    "key = [\"norm\", \"btch\", \"idle\", \"fifo\", \"rr\", \"0\", \"-\"]\n",
    "value = ['0', '1', '2', '3', '4', '5', '6']\n",
    "dic = {k:v for (k,v) in zip(key,value)}\n",
    "process_train_df = process_train_df.na.replace(dic,1,\"POLI\")\n",
    "process_train_df = process_train_df.withColumn(\"POLI\", F.col(\"POLI\").cast(IntegerType()))\n",
    "test_process = test_process.na.replace(dic,1,\"POLI\")\n",
    "test_process = test_process.withColumn(\"POLI\", F.col(\"POLI\").cast(IntegerType()))"
   ]
  },
  {
   "cell_type": "code",
   "execution_count": 197,
   "metadata": {
    "scrolled": false
   },
   "outputs": [
    {
     "name": "stdout",
     "output_type": "stream",
     "text": [
      "root\n",
      " |-- POLI: integer (nullable = true)\n",
      " |-- NICE: integer (nullable = true)\n",
      " |-- PRI: integer (nullable = true)\n",
      " |-- Status: string (nullable = true)\n",
      " |-- EXC: integer (nullable = true)\n",
      " |-- State: string (nullable = true)\n",
      " |-- attack: integer (nullable = true)\n",
      "\n"
     ]
    }
   ],
   "source": [
    "process_train_df.printSchema()"
   ]
  },
  {
   "cell_type": "code",
   "execution_count": 198,
   "metadata": {},
   "outputs": [],
   "source": [
    "# Select number type features except attack.\n",
    "p_numeric_cols = [col.name for col in process_train_df.schema.fields if col.name != 'attack'\n",
    "               and (isinstance(col.dataType, IntegerType) or isinstance(col.dataType, DoubleType))]"
   ]
  },
  {
   "cell_type": "code",
   "execution_count": 199,
   "metadata": {},
   "outputs": [],
   "source": [
    "p_non_numeric_cols = [col for col in process_train_df.columns if col not in p_numeric_cols + ['attack']]"
   ]
  },
  {
   "cell_type": "markdown",
   "metadata": {},
   "source": [
    "### Memory activity\n",
    "According to 1.3.3, choose RGROW and VSTEXT, they can distinguish whether it is an attack. Since there are network attacks that affect the server's memory and other processing, the memory-related features are selected, and the other features are not selected for the same reasons as before."
   ]
  },
  {
   "cell_type": "code",
   "execution_count": 200,
   "metadata": {},
   "outputs": [],
   "source": [
    "cols = ['MINFLT','MAJFLT','VSTEXT', 'VSIZE', 'RSIZE', 'RGROW','attack']"
   ]
  },
  {
   "cell_type": "code",
   "execution_count": 201,
   "metadata": {},
   "outputs": [],
   "source": [
    "memory_train_df = train_memory.select(cols)\n",
    "test_memory = test_memory.select(cols)"
   ]
  },
  {
   "cell_type": "code",
   "execution_count": 202,
   "metadata": {},
   "outputs": [],
   "source": [
    "m_numeric_cols = [col.name for col in memory_train_df.schema.fields if col.name != 'attack'\n",
    "               and (isinstance(col.dataType, IntegerType) or isinstance(col.dataType, DoubleType))]"
   ]
  },
  {
   "cell_type": "code",
   "execution_count": 203,
   "metadata": {},
   "outputs": [],
   "source": [
    "m_non_numeric_cols = [col for col in memory_train_df.columns if col not in m_numeric_cols + ['attack']]"
   ]
  },
  {
   "cell_type": "code",
   "execution_count": 204,
   "metadata": {},
   "outputs": [
    {
     "data": {
      "text/plain": [
       "[]"
      ]
     },
     "execution_count": 204,
     "metadata": {},
     "output_type": "execute_result"
    }
   ],
   "source": [
    "# This time it’s all numeric features\n",
    "m_non_numeric_cols"
   ]
  },
  {
   "cell_type": "markdown",
   "metadata": {},
   "source": [
    "### 2. Create Transformers / Estimators for transforming / assembling the features you selected above in 2.2.1\n",
    "### 3. Prepare Estimators for Decision Tree and Gradient Boosted Tree model for each use case and include them into ML Pipelines for use case 1, 2"
   ]
  },
  {
   "cell_type": "code",
   "execution_count": 205,
   "metadata": {},
   "outputs": [],
   "source": [
    "from pyspark.ml import Pipeline\n",
    "from pyspark.ml.classification import DecisionTreeClassifier, GBTClassifier\n",
    "from pyspark.ml.feature import StringIndexer\n",
    "from pyspark.ml.feature import OneHotEncoder\n",
    "from pyspark.ml.feature import VectorAssembler"
   ]
  },
  {
   "cell_type": "code",
   "execution_count": 206,
   "metadata": {},
   "outputs": [],
   "source": [
    "#  Stage 1:String Indexer\n",
    "inputCols = p_non_numeric_cols\n",
    "outputCols = [col + '_index' for col in p_non_numeric_cols]\n",
    "stage_1 = StringIndexer(inputCols = inputCols, outputCols = outputCols).setHandleInvalid(\"keep\") \n",
    "\n",
    "# Stage 2: One Hot Encoder\n",
    "inputCols_OHE = outputCols\n",
    "outputCols_OHE = [col + '_vec' for col in inputCols]\n",
    "stage_2 = OneHotEncoder(inputCols = inputCols_OHE, outputCols = outputCols_OHE)\n",
    "\n",
    "# Stage 3: Vector Assembler\n",
    "p_DT_inputCols = outputCols_OHE + p_numeric_cols\n",
    "stage_3 = VectorAssembler(inputCols = p_DT_inputCols, outputCol = 'features')\n",
    "\n",
    "# Stage 4: ML Algorithm\n",
    "stage_4 = DecisionTreeClassifier(featuresCol = 'features', labelCol = 'attack')"
   ]
  },
  {
   "cell_type": "code",
   "execution_count": 207,
   "metadata": {
    "scrolled": true
   },
   "outputs": [
    {
     "name": "stdout",
     "output_type": "stream",
     "text": [
      "+----+----+---+------+---+-----+------+------------+-----------+\n",
      "|POLI|NICE|PRI|Status|EXC|State|attack|Status_index|State_index|\n",
      "+----+----+---+------+---+-----+------+------------+-----------+\n",
      "|   0|   0|120|     N|  0|    S|     0|         3.0|        0.0|\n",
      "|   0|   0|120|     N|  0|    S|     0|         3.0|        0.0|\n",
      "|   0|   0|120|     N|  0|    S|     0|         3.0|        0.0|\n",
      "|   0|   0|120|     N|  0|    S|     0|         3.0|        0.0|\n",
      "|   0|   0|120|     N|  0|    S|     0|         3.0|        0.0|\n",
      "|   0|  19|139|     N|  0|    S|     0|         3.0|        0.0|\n",
      "|   0|   0|120|     N|  0|    S|     0|         3.0|        0.0|\n",
      "|   0|   0|120|     N|  0|    S|     0|         3.0|        0.0|\n",
      "|   0|   0|120|     N|  0|    S|     0|         3.0|        0.0|\n",
      "|   0|  20|100|     N|  0|    R|     0|         3.0|        2.0|\n",
      "|   0|   0|120|     N|  0|    S|     0|         3.0|        0.0|\n",
      "|   0|   0|120|     N|  0|    S|     0|         3.0|        0.0|\n",
      "|   0|   0|120|     N|  0|    S|     0|         3.0|        0.0|\n",
      "|   0|   0|120|     N|  0|    S|     0|         3.0|        0.0|\n",
      "|   0|   0|120|     N|  0|    S|     0|         3.0|        0.0|\n",
      "|   0|   0|120|     N|  0|    S|     0|         3.0|        0.0|\n",
      "|   0|   0|120|     N|  0|    S|     0|         3.0|        0.0|\n",
      "|   0|   0|120|     N|  0|    S|     0|         3.0|        0.0|\n",
      "|   0|   0|120|     N|  0|    S|     0|         3.0|        0.0|\n",
      "|   0|   0|120|     N|  0|    S|     0|         3.0|        0.0|\n",
      "+----+----+---+------+---+-----+------+------------+-----------+\n",
      "only showing top 20 rows\n",
      "\n",
      "+----+----+---+------+---+-----+------+------------+-----------+-------------+-------------+\n",
      "|POLI|NICE|PRI|Status|EXC|State|attack|Status_index|State_index|   Status_vec|    State_vec|\n",
      "+----+----+---+------+---+-----+------+------------+-----------+-------------+-------------+\n",
      "|   0|   0|120|     N|  0|    S|     0|         3.0|        0.0|(5,[3],[1.0])|(7,[0],[1.0])|\n",
      "|   0|   0|120|     N|  0|    S|     0|         3.0|        0.0|(5,[3],[1.0])|(7,[0],[1.0])|\n",
      "|   0|   0|120|     N|  0|    S|     0|         3.0|        0.0|(5,[3],[1.0])|(7,[0],[1.0])|\n",
      "|   0|   0|120|     N|  0|    S|     0|         3.0|        0.0|(5,[3],[1.0])|(7,[0],[1.0])|\n",
      "|   0|   0|120|     N|  0|    S|     0|         3.0|        0.0|(5,[3],[1.0])|(7,[0],[1.0])|\n",
      "|   0|  19|139|     N|  0|    S|     0|         3.0|        0.0|(5,[3],[1.0])|(7,[0],[1.0])|\n",
      "|   0|   0|120|     N|  0|    S|     0|         3.0|        0.0|(5,[3],[1.0])|(7,[0],[1.0])|\n",
      "|   0|   0|120|     N|  0|    S|     0|         3.0|        0.0|(5,[3],[1.0])|(7,[0],[1.0])|\n",
      "|   0|   0|120|     N|  0|    S|     0|         3.0|        0.0|(5,[3],[1.0])|(7,[0],[1.0])|\n",
      "|   0|  20|100|     N|  0|    R|     0|         3.0|        2.0|(5,[3],[1.0])|(7,[2],[1.0])|\n",
      "|   0|   0|120|     N|  0|    S|     0|         3.0|        0.0|(5,[3],[1.0])|(7,[0],[1.0])|\n",
      "|   0|   0|120|     N|  0|    S|     0|         3.0|        0.0|(5,[3],[1.0])|(7,[0],[1.0])|\n",
      "|   0|   0|120|     N|  0|    S|     0|         3.0|        0.0|(5,[3],[1.0])|(7,[0],[1.0])|\n",
      "|   0|   0|120|     N|  0|    S|     0|         3.0|        0.0|(5,[3],[1.0])|(7,[0],[1.0])|\n",
      "|   0|   0|120|     N|  0|    S|     0|         3.0|        0.0|(5,[3],[1.0])|(7,[0],[1.0])|\n",
      "|   0|   0|120|     N|  0|    S|     0|         3.0|        0.0|(5,[3],[1.0])|(7,[0],[1.0])|\n",
      "|   0|   0|120|     N|  0|    S|     0|         3.0|        0.0|(5,[3],[1.0])|(7,[0],[1.0])|\n",
      "|   0|   0|120|     N|  0|    S|     0|         3.0|        0.0|(5,[3],[1.0])|(7,[0],[1.0])|\n",
      "|   0|   0|120|     N|  0|    S|     0|         3.0|        0.0|(5,[3],[1.0])|(7,[0],[1.0])|\n",
      "|   0|   0|120|     N|  0|    S|     0|         3.0|        0.0|(5,[3],[1.0])|(7,[0],[1.0])|\n",
      "+----+----+---+------+---+-----+------+------------+-----------+-------------+-------------+\n",
      "only showing top 20 rows\n",
      "\n",
      "+----+----+---+------+---+-----+------+------------+-----------+-------------+-------------+--------------------+\n",
      "|POLI|NICE|PRI|Status|EXC|State|attack|Status_index|State_index|   Status_vec|    State_vec|            features|\n",
      "+----+----+---+------+---+-----+------+------------+-----------+-------------+-------------+--------------------+\n",
      "|   0|   0|120|     N|  0|    S|     0|         3.0|        0.0|(5,[3],[1.0])|(7,[0],[1.0])|(16,[3,5,14],[1.0...|\n",
      "|   0|   0|120|     N|  0|    S|     0|         3.0|        0.0|(5,[3],[1.0])|(7,[0],[1.0])|(16,[3,5,14],[1.0...|\n",
      "|   0|   0|120|     N|  0|    S|     0|         3.0|        0.0|(5,[3],[1.0])|(7,[0],[1.0])|(16,[3,5,14],[1.0...|\n",
      "|   0|   0|120|     N|  0|    S|     0|         3.0|        0.0|(5,[3],[1.0])|(7,[0],[1.0])|(16,[3,5,14],[1.0...|\n",
      "|   0|   0|120|     N|  0|    S|     0|         3.0|        0.0|(5,[3],[1.0])|(7,[0],[1.0])|(16,[3,5,14],[1.0...|\n",
      "|   0|  19|139|     N|  0|    S|     0|         3.0|        0.0|(5,[3],[1.0])|(7,[0],[1.0])|(16,[3,5,13,14],[...|\n",
      "|   0|   0|120|     N|  0|    S|     0|         3.0|        0.0|(5,[3],[1.0])|(7,[0],[1.0])|(16,[3,5,14],[1.0...|\n",
      "|   0|   0|120|     N|  0|    S|     0|         3.0|        0.0|(5,[3],[1.0])|(7,[0],[1.0])|(16,[3,5,14],[1.0...|\n",
      "|   0|   0|120|     N|  0|    S|     0|         3.0|        0.0|(5,[3],[1.0])|(7,[0],[1.0])|(16,[3,5,14],[1.0...|\n",
      "|   0|  20|100|     N|  0|    R|     0|         3.0|        2.0|(5,[3],[1.0])|(7,[2],[1.0])|(16,[3,7,13,14],[...|\n",
      "|   0|   0|120|     N|  0|    S|     0|         3.0|        0.0|(5,[3],[1.0])|(7,[0],[1.0])|(16,[3,5,14],[1.0...|\n",
      "|   0|   0|120|     N|  0|    S|     0|         3.0|        0.0|(5,[3],[1.0])|(7,[0],[1.0])|(16,[3,5,14],[1.0...|\n",
      "|   0|   0|120|     N|  0|    S|     0|         3.0|        0.0|(5,[3],[1.0])|(7,[0],[1.0])|(16,[3,5,14],[1.0...|\n",
      "|   0|   0|120|     N|  0|    S|     0|         3.0|        0.0|(5,[3],[1.0])|(7,[0],[1.0])|(16,[3,5,14],[1.0...|\n",
      "|   0|   0|120|     N|  0|    S|     0|         3.0|        0.0|(5,[3],[1.0])|(7,[0],[1.0])|(16,[3,5,14],[1.0...|\n",
      "|   0|   0|120|     N|  0|    S|     0|         3.0|        0.0|(5,[3],[1.0])|(7,[0],[1.0])|(16,[3,5,14],[1.0...|\n",
      "|   0|   0|120|     N|  0|    S|     0|         3.0|        0.0|(5,[3],[1.0])|(7,[0],[1.0])|(16,[3,5,14],[1.0...|\n",
      "|   0|   0|120|     N|  0|    S|     0|         3.0|        0.0|(5,[3],[1.0])|(7,[0],[1.0])|(16,[3,5,14],[1.0...|\n",
      "|   0|   0|120|     N|  0|    S|     0|         3.0|        0.0|(5,[3],[1.0])|(7,[0],[1.0])|(16,[3,5,14],[1.0...|\n",
      "|   0|   0|120|     N|  0|    S|     0|         3.0|        0.0|(5,[3],[1.0])|(7,[0],[1.0])|(16,[3,5,14],[1.0...|\n",
      "+----+----+---+------+---+-----+------+------------+-----------+-------------+-------------+--------------------+\n",
      "only showing top 20 rows\n",
      "\n"
     ]
    }
   ],
   "source": [
    "stage_1.fit(process_train_df).transform(test_process).show()\n",
    "s1 = stage_1.fit(process_train_df).transform(test_process)\n",
    "stage_2.fit(s1).transform(s1).show()\n",
    "s2 = stage_2.fit(s1).transform(s1)\n",
    "stage_3.transform(s2).show()"
   ]
  },
  {
   "cell_type": "code",
   "execution_count": 208,
   "metadata": {},
   "outputs": [
    {
     "name": "stdout",
     "output_type": "stream",
     "text": [
      "+-------------------------------------+------+\n",
      "|features                             |attack|\n",
      "+-------------------------------------+------+\n",
      "|(16,[3,5,14],[1.0,1.0,120.0])        |0     |\n",
      "|(16,[3,5,14],[1.0,1.0,120.0])        |0     |\n",
      "|(16,[3,5,14],[1.0,1.0,120.0])        |0     |\n",
      "|(16,[3,5,14],[1.0,1.0,120.0])        |0     |\n",
      "|(16,[3,5,14],[1.0,1.0,120.0])        |0     |\n",
      "|(16,[3,5,13,14],[1.0,1.0,19.0,139.0])|0     |\n",
      "|(16,[3,5,14],[1.0,1.0,120.0])        |0     |\n",
      "|(16,[3,5,14],[1.0,1.0,120.0])        |0     |\n",
      "|(16,[3,5,14],[1.0,1.0,120.0])        |0     |\n",
      "|(16,[3,7,13,14],[1.0,1.0,20.0,100.0])|0     |\n",
      "|(16,[3,5,14],[1.0,1.0,120.0])        |0     |\n",
      "|(16,[3,5,14],[1.0,1.0,120.0])        |0     |\n",
      "|(16,[3,5,14],[1.0,1.0,120.0])        |0     |\n",
      "|(16,[3,5,14],[1.0,1.0,120.0])        |0     |\n",
      "|(16,[3,5,14],[1.0,1.0,120.0])        |0     |\n",
      "|(16,[3,5,14],[1.0,1.0,120.0])        |0     |\n",
      "|(16,[3,5,14],[1.0,1.0,120.0])        |0     |\n",
      "|(16,[3,5,14],[1.0,1.0,120.0])        |0     |\n",
      "|(16,[3,5,14],[1.0,1.0,120.0])        |0     |\n",
      "|(16,[3,5,14],[1.0,1.0,120.0])        |0     |\n",
      "+-------------------------------------+------+\n",
      "only showing top 20 rows\n",
      "\n"
     ]
    }
   ],
   "source": [
    "s3 = stage_3.transform(s2)\n",
    "s3.select(\"features\", \"attack\").show(truncate=False)"
   ]
  },
  {
   "cell_type": "code",
   "execution_count": 209,
   "metadata": {},
   "outputs": [],
   "source": [
    "p_DecisionTree_pipeline = Pipeline(stages = [stage_1, stage_2, stage_3, stage_4])"
   ]
  },
  {
   "cell_type": "code",
   "execution_count": 210,
   "metadata": {},
   "outputs": [],
   "source": [
    "#  Stage 1:String Indexer\n",
    "inputCols = p_non_numeric_cols\n",
    "outputCols = [col + '_index' for col in p_non_numeric_cols]\n",
    "stage_1 = StringIndexer(inputCols = inputCols, outputCols = outputCols).setHandleInvalid(\"keep\") \n",
    "\n",
    "# Stage 2: One Hot Encoder\n",
    "inputCols_OHE = outputCols\n",
    "outputCols_OHE = [col + '_vec' for col in inputCols]\n",
    "stage_2 = OneHotEncoder(inputCols = inputCols_OHE, outputCols = outputCols_OHE)\n",
    "\n",
    "# Stage 3: Vector Assembler\n",
    "p_GBT_inputCols = outputCols_OHE + p_numeric_cols\n",
    "stage_3 = VectorAssembler(inputCols = p_GBT_inputCols, outputCol = 'features')\n",
    "\n",
    "# Stage 4: ML Algorithm\n",
    "stage_4 = GBTClassifier(featuresCol = 'features', labelCol = 'attack')"
   ]
  },
  {
   "cell_type": "code",
   "execution_count": 211,
   "metadata": {},
   "outputs": [],
   "source": [
    "p_GBT_pipeline = Pipeline(stages = [stage_1, stage_2, stage_3, stage_4])"
   ]
  },
  {
   "cell_type": "code",
   "execution_count": 212,
   "metadata": {},
   "outputs": [],
   "source": [
    "# Stage 1: Vector Assembler\n",
    "m_DT_inputCols = m_numeric_cols\n",
    "stage_1 = VectorAssembler(inputCols = m_DT_inputCols, outputCol = 'features')\n",
    "\n",
    "# Stage 2: ML Algorithm\n",
    "stage_2 = DecisionTreeClassifier(featuresCol = 'features', labelCol = 'attack')"
   ]
  },
  {
   "cell_type": "code",
   "execution_count": 213,
   "metadata": {},
   "outputs": [],
   "source": [
    "m_DecisionTree_pipeline = Pipeline(stages = [stage_1, stage_2])"
   ]
  },
  {
   "cell_type": "code",
   "execution_count": 214,
   "metadata": {},
   "outputs": [],
   "source": [
    "# Stage 1: Vector Assembler\n",
    "m_GBT_inputCols = m_numeric_cols\n",
    "stage_1 = VectorAssembler(inputCols = m_GBT_inputCols, outputCol = 'features')\n",
    "\n",
    "# Stage 2: ML Algorithm\n",
    "stage_2 = GBTClassifier(featuresCol = 'features', labelCol = 'attack')"
   ]
  },
  {
   "cell_type": "code",
   "execution_count": 215,
   "metadata": {},
   "outputs": [],
   "source": [
    "m_GBT_pipeline = Pipeline(stages = [stage_1, stage_2])"
   ]
  },
  {
   "cell_type": "markdown",
   "metadata": {},
   "source": [
    "## 2.3 Training and evaluating models\n",
    "### 1. For each use case, use the corresponding ML Pipeline from previous step to train the models on the rebalanced training data from 2.1.2"
   ]
  },
  {
   "cell_type": "code",
   "execution_count": 216,
   "metadata": {},
   "outputs": [],
   "source": [
    "p_DT_model = p_DecisionTree_pipeline.fit(process_train_df)\n",
    "p_GBT_model = p_GBT_pipeline.fit(process_train_df)\n",
    "m_DT_model = m_DecisionTree_pipeline.fit(memory_train_df)\n",
    "m_GBT_model = m_GBT_pipeline.fit(memory_train_df)"
   ]
  },
  {
   "cell_type": "markdown",
   "metadata": {},
   "source": [
    "### 2. For each use case, test the models on the testing data from 2.1.1 and display the count of each combination of attack label and prediction label in formats as below."
   ]
  },
  {
   "cell_type": "code",
   "execution_count": 217,
   "metadata": {},
   "outputs": [],
   "source": [
    "p_DT_prediction = p_DT_model.transform(test_process)\n",
    "p_GBT_prediction = p_GBT_model.transform(test_process)\n",
    "m_DT_prediction = m_DT_model.transform(test_memory)\n",
    "m_GBT_prediction = m_GBT_model.transform(test_memory)"
   ]
  },
  {
   "cell_type": "code",
   "execution_count": 218,
   "metadata": {},
   "outputs": [
    {
     "name": "stdout",
     "output_type": "stream",
     "text": [
      "+--------------------+------+----------+\n",
      "|            features|attack|prediction|\n",
      "+--------------------+------+----------+\n",
      "|(16,[3,5,14],[1.0...|     0|       1.0|\n",
      "|(16,[3,5,14],[1.0...|     0|       1.0|\n",
      "|(16,[3,5,14],[1.0...|     0|       1.0|\n",
      "|(16,[3,5,14],[1.0...|     0|       1.0|\n",
      "|(16,[3,5,14],[1.0...|     0|       1.0|\n",
      "|(16,[3,5,13,14],[...|     0|       1.0|\n",
      "|(16,[3,5,14],[1.0...|     0|       1.0|\n",
      "|(16,[3,5,14],[1.0...|     0|       1.0|\n",
      "|(16,[3,5,14],[1.0...|     0|       1.0|\n",
      "|(16,[3,7,13,14],[...|     0|       0.0|\n",
      "|(16,[3,5,14],[1.0...|     0|       1.0|\n",
      "|(16,[3,5,14],[1.0...|     0|       1.0|\n",
      "|(16,[3,5,14],[1.0...|     0|       1.0|\n",
      "|(16,[3,5,14],[1.0...|     0|       1.0|\n",
      "|(16,[3,5,14],[1.0...|     0|       1.0|\n",
      "|(16,[3,5,14],[1.0...|     0|       1.0|\n",
      "|(16,[3,5,14],[1.0...|     0|       1.0|\n",
      "|(16,[3,5,14],[1.0...|     0|       1.0|\n",
      "|(16,[3,5,14],[1.0...|     0|       1.0|\n",
      "|(16,[3,5,14],[1.0...|     0|       1.0|\n",
      "+--------------------+------+----------+\n",
      "only showing top 20 rows\n",
      "\n"
     ]
    }
   ],
   "source": [
    "p_DT_prediction.select('features','attack','prediction').show()"
   ]
  },
  {
   "cell_type": "code",
   "execution_count": 219,
   "metadata": {},
   "outputs": [
    {
     "name": "stdout",
     "output_type": "stream",
     "text": [
      "+------+----------+------+\n",
      "|attack|prediction| count|\n",
      "+------+----------+------+\n",
      "|     1|       0.0| 31002|\n",
      "|     0|       0.0|260120|\n",
      "|     1|       1.0| 27177|\n",
      "|     0|       1.0| 67278|\n",
      "+------+----------+------+\n",
      "\n"
     ]
    }
   ],
   "source": [
    "p_DT_prediction.groupby([\"attack\", \"prediction\"]).count().show()"
   ]
  },
  {
   "cell_type": "code",
   "execution_count": 220,
   "metadata": {},
   "outputs": [
    {
     "name": "stdout",
     "output_type": "stream",
     "text": [
      "+------+----------+------+\n",
      "|attack|prediction| count|\n",
      "+------+----------+------+\n",
      "|     1|       0.0| 31011|\n",
      "|     0|       0.0|260182|\n",
      "|     1|       1.0| 27168|\n",
      "|     0|       1.0| 67216|\n",
      "+------+----------+------+\n",
      "\n"
     ]
    }
   ],
   "source": [
    "p_GBT_prediction.groupby([\"attack\", \"prediction\"]).count().show()"
   ]
  },
  {
   "cell_type": "code",
   "execution_count": 221,
   "metadata": {
    "scrolled": true
   },
   "outputs": [
    {
     "name": "stdout",
     "output_type": "stream",
     "text": [
      "+------+----------+------+\n",
      "|attack|prediction| count|\n",
      "+------+----------+------+\n",
      "|     1|       0.0| 23156|\n",
      "|     0|       0.0|298780|\n",
      "|     1|       1.0| 17782|\n",
      "|     0|       1.0| 60499|\n",
      "+------+----------+------+\n",
      "\n"
     ]
    }
   ],
   "source": [
    "m_DT_prediction.groupby([\"attack\", \"prediction\"]).count().show()"
   ]
  },
  {
   "cell_type": "code",
   "execution_count": 222,
   "metadata": {},
   "outputs": [
    {
     "name": "stdout",
     "output_type": "stream",
     "text": [
      "+------+----------+------+\n",
      "|attack|prediction| count|\n",
      "+------+----------+------+\n",
      "|     1|       0.0| 20366|\n",
      "|     0|       0.0|319720|\n",
      "|     1|       1.0| 20572|\n",
      "|     0|       1.0| 39559|\n",
      "+------+----------+------+\n",
      "\n"
     ]
    }
   ],
   "source": [
    "m_GBT_prediction.groupby([\"attack\", \"prediction\"]).count().show()"
   ]
  },
  {
   "cell_type": "markdown",
   "metadata": {},
   "source": [
    "### 3. Compute the AUC, accuracy, recall and precision for the attack label from each model testing result using pyspark MLlib / ML APIs. Discuss which metric is more proper for measuring the model performance on identifying attacks."
   ]
  },
  {
   "cell_type": "markdown",
   "metadata": {},
   "source": [
    "Precision and recall should be the most important metrics, they represent whether we can correctly identify when an attack is happening (by looking at the percentage of TPs), and then AUC is also important to differentiate when all other metrics are about the same"
   ]
  },
  {
   "cell_type": "code",
   "execution_count": 223,
   "metadata": {},
   "outputs": [],
   "source": [
    "def compute_metrics(predictions):\n",
    "    TN = predictions.filter('prediction = 0 AND attack = 0').count()\n",
    "    TP = predictions.filter('prediction = 1 AND attack = 1').count()    \n",
    "    FN = predictions.filter('prediction = 0 AND attack = 1').count()    \n",
    "    FP = predictions.filter('prediction = 1 AND attack = 0').count()    \n",
    "    \n",
    "    accuracy = (TP + TN)/(predictions.count())\n",
    "    precision = TP/(TP + FP)\n",
    "    recall = TP/(TP + FN)\n",
    "    f1 = 2/(1/recall + 1/precision)\n",
    "    return accuracy, precision, recall, f1"
   ]
  },
  {
   "cell_type": "code",
   "execution_count": 224,
   "metadata": {},
   "outputs": [],
   "source": [
    "from pyspark.ml.evaluation import BinaryClassificationEvaluator\n",
    "evaluator = BinaryClassificationEvaluator(rawPredictionCol = \"rawPrediction\", labelCol = 'attack')"
   ]
  },
  {
   "cell_type": "code",
   "execution_count": 225,
   "metadata": {},
   "outputs": [
    {
     "name": "stdout",
     "output_type": "stream",
     "text": [
      "process DT areaUnderROC : 0.46102734347241425\n",
      "process DT accuracy : 0.7451092777836852\n",
      "process DT precision : 0.2877243131649992\n",
      "process DT recall : 0.4671273139792709\n",
      "process DT f1 : 0.3561067652030347\n"
     ]
    }
   ],
   "source": [
    "auc_dt = evaluator.evaluate(p_DT_prediction)\n",
    "print(\"process DT {} : {}\".format(evaluator.getMetricName(), auc_dt))\n",
    "accuracy, precision, recall, f1 = compute_metrics(p_DT_prediction)\n",
    "print(\"process DT accuracy : {}\".format(accuracy))\n",
    "print(\"process DT precision : {}\".format(precision))\n",
    "print(\"process DT recall : {}\".format(recall))\n",
    "print(\"process DT f1 : {}\".format(f1))"
   ]
  },
  {
   "cell_type": "code",
   "execution_count": 226,
   "metadata": {},
   "outputs": [
    {
     "name": "stdout",
     "output_type": "stream",
     "text": [
      "process GBT areaUnderROC : 0.6671423167237702\n",
      "process GBT accuracy : 0.7452467341153648\n",
      "process GBT precision : 0.28784539752500427\n",
      "process GBT recall : 0.46697261898623216\n",
      "process GBT f1 : 0.3561545066628212\n"
     ]
    }
   ],
   "source": [
    "auc_dt = evaluator.evaluate(p_GBT_prediction)\n",
    "print(\"process GBT {} : {}\".format(evaluator.getMetricName(), auc_dt))\n",
    "accuracy, precision, recall, f1 = compute_metrics(p_GBT_prediction)\n",
    "print(\"process GBT accuracy : {}\".format(accuracy))\n",
    "print(\"process GBT precision : {}\".format(precision))\n",
    "print(\"process GBT recall : {}\".format(recall))\n",
    "print(\"process GBT f1 : {}\".format(f1))"
   ]
  },
  {
   "cell_type": "code",
   "execution_count": 227,
   "metadata": {},
   "outputs": [
    {
     "name": "stdout",
     "output_type": "stream",
     "text": [
      "memory DT areaUnderROC : 0.5508352203680144\n",
      "memory DT accuracy : 0.7909758955766497\n",
      "memory DT precision : 0.22715601486950857\n",
      "memory DT recall : 0.4343641604377351\n",
      "memory DT f1 : 0.29830815557922813\n"
     ]
    }
   ],
   "source": [
    "auc_dt = evaluator.evaluate(m_DT_prediction)\n",
    "print(\"memory DT {} : {}\".format(evaluator.getMetricName(), auc_dt))\n",
    "accuracy, precision, recall, f1 = compute_metrics(m_DT_prediction)\n",
    "print(\"memory DT accuracy : {}\".format(accuracy))\n",
    "print(\"memory DT precision : {}\".format(precision))\n",
    "print(\"memory DT recall : {}\".format(recall))\n",
    "print(\"memory DT f1 : {}\".format(f1))"
   ]
  },
  {
   "cell_type": "code",
   "execution_count": 228,
   "metadata": {},
   "outputs": [
    {
     "name": "stdout",
     "output_type": "stream",
     "text": [
      "memory GBT areaUnderROC : 0.8181376715887209\n",
      "memory GBT accuracy : 0.8502687292144012\n",
      "memory GBT precision : 0.342119705310073\n",
      "memory GBT recall : 0.5025159998045825\n",
      "memory GBT f1 : 0.4070882268549209\n"
     ]
    }
   ],
   "source": [
    "auc_dt = evaluator.evaluate(m_GBT_prediction)\n",
    "print(\"memory GBT {} : {}\".format(evaluator.getMetricName(), auc_dt))\n",
    "accuracy, precision, recall, f1 = compute_metrics(m_GBT_prediction)\n",
    "print(\"memory GBT accuracy : {}\".format(accuracy))\n",
    "print(\"memory GBT precision : {}\".format(precision))\n",
    "print(\"memory GBT recall : {}\".format(recall))\n",
    "print(\"memory GBT f1 : {}\".format(f1))"
   ]
  },
  {
   "cell_type": "markdown",
   "metadata": {},
   "source": [
    "### 4. Display the top-5 most important features in each model. Discuss which pipeline model is better, and whether the feature “ts” should be included in the model . And visualise the ROC curve for the better model you selected for each use case."
   ]
  },
  {
   "cell_type": "markdown",
   "metadata": {},
   "source": [
    "I think the two mods that use GBT are better because they have a larger AREAUnderROC and have a higher accuracy rate, ts shouldn't be excluded from the mod because the original attack data was simulated and generated in a certain time period, but that doesn't mean that future attacks will happen in that time period"
   ]
  },
  {
   "cell_type": "code",
   "execution_count": 229,
   "metadata": {
    "scrolled": true
   },
   "outputs": [
    {
     "name": "stdout",
     "output_type": "stream",
     "text": [
      "Process_DecisionTree feature NO.1 : Status\n",
      "Process_DecisionTree feature NO.2 : State\n",
      "Process_DecisionTree feature NO.3 : PRI\n",
      "Process_DecisionTree feature NO.4 : NICE\n",
      "Process_DecisionTree feature NO.5 : POLI\n"
     ]
    }
   ],
   "source": [
    "# Since there are 6 and 7 cases of status and state respectively, which account for multiple FEATURES\n",
    "# we have to deal with them here and add the numerical FEATURES\n",
    "featurelist = p_DT_inputCols[2:]\n",
    "for _ in range(6):\n",
    "    featurelist.insert(0,'State')\n",
    "for _ in range(7):\n",
    "    featurelist.insert(0,'Status')\n",
    "top_5 = []\n",
    "for featureNum in p_DT_model.stages[-1].featureImportances.toArray().argsort():\n",
    "    if featurelist[featureNum] in top_5:\n",
    "        continue\n",
    "    top_5.append(featurelist[featureNum])\n",
    "    print(\"Process_DecisionTree feature NO.{} : {}\".format(len(top_5), featurelist[featureNum]))\n",
    "    if len(top_5) == 5:\n",
    "        break"
   ]
  },
  {
   "cell_type": "code",
   "execution_count": 230,
   "metadata": {},
   "outputs": [
    {
     "name": "stdout",
     "output_type": "stream",
     "text": [
      "Process_DecisionTree feature NO.1 : Status\n",
      "Process_DecisionTree feature NO.2 : State\n",
      "Process_DecisionTree feature NO.3 : PRI\n",
      "Process_DecisionTree feature NO.4 : NICE\n",
      "Process_DecisionTree feature NO.5 : POLI\n"
     ]
    }
   ],
   "source": [
    "top_5 = []\n",
    "for featureNum in p_GBT_model.stages[-1].featureImportances.toArray().argsort():\n",
    "    if featurelist[featureNum] in top_5:\n",
    "        continue\n",
    "    top_5.append(featurelist[featureNum])\n",
    "    print(\"Process_DecisionTree feature NO.{} : {}\".format(len(top_5), featurelist[featureNum]))\n",
    "    if len(top_5) == 5:\n",
    "        break"
   ]
  },
  {
   "cell_type": "code",
   "execution_count": 231,
   "metadata": {},
   "outputs": [],
   "source": [
    "import sklearn.metrics as metrics\n",
    "preds = p_GBT_prediction.select(\"probability\").rdd.map(lambda x: x[0][1]).collect()\n",
    "labels = p_GBT_prediction.select(\"attack\").rdd.map(lambda x : x[0]).collect()"
   ]
  },
  {
   "cell_type": "code",
   "execution_count": 232,
   "metadata": {},
   "outputs": [
    {
     "data": {
      "text/plain": [
       "[<matplotlib.lines.Line2D at 0x7f85ec71e880>]"
      ]
     },
     "execution_count": 232,
     "metadata": {},
     "output_type": "execute_result"
    },
    {
     "data": {
      "image/png": "[encoded data removed]",
      "text/plain": [
       "<Figure size 432x288 with 1 Axes>"
      ]
     },
     "metadata": {
      "needs_background": "light"
     },
     "output_type": "display_data"
    }
   ],
   "source": [
    "fpr, tpr, threshold = metrics.roc_curve(labels, preds)\n",
    "plt.plot(fpr, tpr)"
   ]
  },
  {
   "cell_type": "code",
   "execution_count": 233,
   "metadata": {},
   "outputs": [
    {
     "name": "stdout",
     "output_type": "stream",
     "text": [
      "Process_DecisionTree feature NO.1 : RGROW\n",
      "Process_DecisionTree feature NO.2 : MAJFLT\n",
      "Process_DecisionTree feature NO.3 : VSIZE\n",
      "Process_DecisionTree feature NO.4 : RSIZE\n",
      "Process_DecisionTree feature NO.5 : VSTEXT\n"
     ]
    }
   ],
   "source": [
    "top_5 = []\n",
    "for featureNum in m_DT_model.stages[-1].featureImportances.toArray().argsort():\n",
    "    if m_DT_inputCols[featureNum] in top_5:\n",
    "        continue\n",
    "    top_5.append(m_DT_inputCols[featureNum])\n",
    "    print(\"Process_DecisionTree feature NO.{} : {}\".format(len(top_5), m_DT_inputCols[featureNum]))\n",
    "    if len(top_5) == 5:\n",
    "        break"
   ]
  },
  {
   "cell_type": "code",
   "execution_count": 234,
   "metadata": {},
   "outputs": [
    {
     "name": "stdout",
     "output_type": "stream",
     "text": [
      "Process_DecisionTree feature NO.1 : MAJFLT\n",
      "Process_DecisionTree feature NO.2 : RGROW\n",
      "Process_DecisionTree feature NO.3 : MINFLT\n",
      "Process_DecisionTree feature NO.4 : VSIZE\n",
      "Process_DecisionTree feature NO.5 : VSTEXT\n"
     ]
    }
   ],
   "source": [
    "top_5 = []\n",
    "for featureNum in m_GBT_model.stages[-1].featureImportances.toArray().argsort():\n",
    "    if m_GBT_inputCols[featureNum] in top_5:\n",
    "        continue\n",
    "    top_5.append(m_GBT_inputCols[featureNum])\n",
    "    print(\"Process_DecisionTree feature NO.{} : {}\".format(len(top_5), m_GBT_inputCols[featureNum]))\n",
    "    if len(top_5) == 5:\n",
    "        break"
   ]
  },
  {
   "cell_type": "code",
   "execution_count": 235,
   "metadata": {},
   "outputs": [],
   "source": [
    "import sklearn.metrics as metrics\n",
    "preds = m_GBT_prediction.select(\"probability\").rdd.map(lambda x: x[0][1]).collect()\n",
    "labels = m_GBT_prediction.select(\"attack\").rdd.map(lambda x : x[0]).collect()"
   ]
  },
  {
   "cell_type": "code",
   "execution_count": 240,
   "metadata": {
    "scrolled": true
   },
   "outputs": [
    {
     "data": {
      "text/plain": [
       "[<matplotlib.lines.Line2D at 0x7f85ec822280>]"
      ]
     },
     "execution_count": 240,
     "metadata": {},
     "output_type": "execute_result"
    },
    {
     "data": {
      "image/png": "[encoded data removed]",
      "text/plain": [
       "<Figure size 432x288 with 1 Axes>"
      ]
     },
     "metadata": {
      "needs_background": "light"
     },
     "output_type": "display_data"
    }
   ],
   "source": [
    "fpr, tpr, threshold = metrics.roc_curve(labels, preds)\n",
    "plt.plot(fpr, tpr)"
   ]
  },
  {
   "cell_type": "markdown",
   "metadata": {},
   "source": [
    "### 5. Using the pipeline model you selected in the previous step, re-train the pipeline model using a bigger set of rebalanced training data, with attack events and non-attack events being 1:2 ratio, while using all attack events data from the full data for both use cases. Then persist the better models for each use case."
   ]
  },
  {
   "cell_type": "markdown",
   "metadata": {},
   "source": [
    "#### process activity"
   ]
  },
  {
   "cell_type": "code",
   "execution_count": 241,
   "metadata": {},
   "outputs": [],
   "source": [
    "train_process = process_df\n",
    "# using all attack events data from the full data\n",
    "train_process_attack = train_process.filter(F.col('attack') == 1)\n",
    "train_process_normal = train_process.filter(F.col('attack') == 0)\n",
    "# attack events and non-attack events being 1:2 ratio\n",
    "train_process_normal = train_process_normal.sample(train_process_attack.count() * 2 / train_process_normal.count())\n",
    "train_process = train_process_normal.union(train_process_attack).cache()"
   ]
  },
  {
   "cell_type": "code",
   "execution_count": 242,
   "metadata": {},
   "outputs": [],
   "source": [
    "cols = ['POLI','NICE','PRI','Status','EXC','State','attack']"
   ]
  },
  {
   "cell_type": "code",
   "execution_count": 243,
   "metadata": {},
   "outputs": [],
   "source": [
    "process_train_df = train_process.select(cols)\n",
    "test_process = test_process.select(cols)"
   ]
  },
  {
   "cell_type": "code",
   "execution_count": 244,
   "metadata": {},
   "outputs": [
    {
     "name": "stderr",
     "output_type": "stream",
     "text": [
      "/home/student/.local/lib/python3.8/site-packages/pyspark/sql/dataframe.py:1894: UserWarning: to_replace is a dict and value is not None. value will be ignored.\n",
      "  warnings.warn(\"to_replace is a dict and value is not None. value will be ignored.\")\n"
     ]
    }
   ],
   "source": [
    "# First convert POLI according to our custom Transformer dict\n",
    "key = [\"norm\", \"btch\", \"idle\", \"fifo\", \"rr\", \"0\", \"-\"]\n",
    "value = ['0', '1', '2', '3', '4', '5', '6']\n",
    "dic = {k:v for (k,v) in zip(key,value)}\n",
    "process_train_df = process_train_df.na.replace(dic,1,\"POLI\")\n",
    "process_train_df = process_train_df.withColumn(\"POLI\", F.col(\"POLI\").cast(IntegerType()))\n",
    "test_process = test_process.na.replace(dic,1,\"POLI\")\n",
    "test_process = test_process.withColumn(\"POLI\", F.col(\"POLI\").cast(IntegerType()))"
   ]
  },
  {
   "cell_type": "code",
   "execution_count": 245,
   "metadata": {},
   "outputs": [],
   "source": [
    "p_GBT_model = p_GBT_pipeline.fit(process_train_df)"
   ]
  },
  {
   "cell_type": "code",
   "execution_count": 246,
   "metadata": {},
   "outputs": [],
   "source": [
    "# import  os\n",
    "# cwd = os.getcwd()\n",
    "p_GBT_model.write().overwrite().save('process_GBT_prediction_model')"
   ]
  },
  {
   "cell_type": "markdown",
   "metadata": {},
   "source": [
    "#### memory activity"
   ]
  },
  {
   "cell_type": "code",
   "execution_count": 247,
   "metadata": {},
   "outputs": [],
   "source": [
    "train_memory =  memory_df\n",
    "train_memory_attack = train_memory.filter(F.col('attack') == 1)\n",
    "train_memory_normal = train_memory.filter(F.col('attack') == 0)\n",
    "train_memory_normal = train_memory_normal.sample(train_memory_attack.count() * 2 / train_memory_normal.count())\n",
    "train_memory = train_memory_normal.union(train_memory_attack).cache()"
   ]
  },
  {
   "cell_type": "code",
   "execution_count": 248,
   "metadata": {},
   "outputs": [],
   "source": [
    "cols = ['MINFLT','MAJFLT','VSTEXT', 'VSIZE', 'RSIZE', 'RGROW','attack']"
   ]
  },
  {
   "cell_type": "code",
   "execution_count": 249,
   "metadata": {},
   "outputs": [],
   "source": [
    "memory_train_df = train_memory.select(cols)\n",
    "test_memory = test_memory.select(cols)"
   ]
  },
  {
   "cell_type": "code",
   "execution_count": 250,
   "metadata": {},
   "outputs": [],
   "source": [
    "m_GBT_model = m_GBT_pipeline.fit(memory_train_df)"
   ]
  },
  {
   "cell_type": "code",
   "execution_count": 251,
   "metadata": {},
   "outputs": [],
   "source": [
    "# import  os\n",
    "# cwd = os.getcwd()\n",
    "m_GBT_model.write().overwrite().save('memory_GBT_prediction_model')"
   ]
  },
  {
   "cell_type": "markdown",
   "metadata": {},
   "source": [
    "# 3. Knowledge sharing\n",
    "## 3.1 How many jobs are observed when training the KMeans clustering model following the code below?"
   ]
  },
  {
   "cell_type": "code",
   "execution_count": 252,
   "metadata": {},
   "outputs": [],
   "source": [
    "from pyspark.ml.clustering import KMeans\n",
    "iris_df = spark.createDataFrame([ \n",
    "    (4.7, 3.2, 1.3, 0.2), \n",
    "    (4.9, 3.1, 1.5, 0.1), \n",
    "    (5.4, 3.9, 1.3, 0.4), \n",
    "    (5.0, 3.4, 1.6, 0.4), \n",
    "    (5.1, 3.8, 1.6, 0.2), \n",
    "    (4.9, 2.4, 3.3, 1.0), \n",
    "    (6.6, 2.9, 4.6, 1.3), \n",
    "    (5.6, 3.0, 4.5, 1.5), \n",
    "    (5.7, 2.6, 3.5, 1.0), \n",
    "    (5.8, 2.6, 4.0, 1.2), \n",
    "    (5.8, 2.8, 5.1, 2.4), \n",
    "    (6.2, 2.8, 4.8, 1.8), \n",
    "    (6.0, 3.0, 4.8, 1.8), \n",
    "    (6.7, 3.1, 5.6, 2.4), \n",
    "    (6.7, 3.0, 5.2, 2.3), \n",
    "    (6.2, 3.4, 5.4, 2.3)], \n",
    "    ['sepal_length', 'sepal_width', 'petal_length', 'petal_width']) \n",
    "assembler = VectorAssembler( \n",
    "    inputCols=['sepal_length', 'sepal_width', 'petal_length', 'petal_width'], \n",
    "    outputCol='features') \n",
    "kmeans = KMeans(k=3).fit(assembler.transform(iris_df))"
   ]
  },
  {
   "cell_type": "code",
   "execution_count": 253,
   "metadata": {
    "scrolled": true
   },
   "outputs": [
    {
     "data": {
      "text/html": [
       "\n",
       "            <div>\n",
       "                <p><b>SparkSession - in-memory</b></p>\n",
       "                \n",
       "        <div>\n",
       "            <p><b>SparkContext</b></p>\n",
       "\n",
       "            <p><a href=\"http://192.168.56.101:4040\">Spark UI</a></p>\n",
       "\n",
       "            <dl>\n",
       "              <dt>Version</dt>\n",
       "                <dd><code>v3.0.0</code></dd>\n",
       "              <dt>Master</dt>\n",
       "                <dd><code>local[*]</code></dd>\n",
       "              <dt>AppName</dt>\n",
       "                <dd><code>Detecting hacking activities</code></dd>\n",
       "            </dl>\n",
       "        </div>\n",
       "        \n",
       "            </div>\n",
       "        "
      ],
      "text/plain": [
       "<pyspark.sql.session.SparkSession at 0x7f85fd40ad90>"
      ]
     },
     "execution_count": 253,
     "metadata": {},
     "output_type": "execute_result"
    }
   ],
   "source": [
    "spark"
   ]
  },
  {
   "cell_type": "markdown",
   "metadata": {},
   "source": [
    "As you can see from the screenshot there are nine jobs："
   ]
  },
  {
   "attachments": {
    "image.png": {
     "image/png": "[encoded data removed]"
    }
   },
   "cell_type": "markdown",
   "metadata": {},
   "source": [
    "![image.png](attachment:image.png)"
   ]
  },
  {
   "cell_type": "markdown",
   "metadata": {},
   "source": [
    "## 3.2 Combining the KMeans algorithm from the lecture, explain what each job in Spark UI represents "
   ]
  },
  {
   "cell_type": "markdown",
   "metadata": {},
   "source": [
    "### takeSample at KMeans：\n",
    "             Spark has a method called initKMeansParallel to generate the initial center, where localkmeans class is mainly used to implement KMeans++ methods to get the center. Runs a KMeans task and chooses the smallest cost as the most appropriate clustering result. So this initKMeansParallel method also returns an Array[Array[VectorWithNorm]]. It's a two-dimensional array that represents a group of centroids with runs and k vectors per group centroid.\n",
    "          \n",
    "### sum at KMeans：\n",
    "          //Loop and iterate through the known center points to find the other center points.\n",
    "           while (step < initializationSteps) {\n",
    "              val bcNewCenters = data.context.broadcast(newCenters)\n",
    "              bcNewCentersList += bcNewCenters\n",
    "              val preCosts = costs\n",
    "              // Cost of distance of each point from the nearest centre\n",
    "              costs = data.zip(preCosts).map { case (point, cost) =>\n",
    " ### collect at KMeans：\n",
    "              //pointCost gets the distance to the nearest center point.\n",
    "              // and take the smaller one compared to the distance of the previous iteration\n",
    "                math.min(distanceMeasureInstance.pointCost(bcNewCenters.value, point), cost)\n",
    "              }.persist(StorageLevel.MEMORY_AND_DISK)\n",
    "              val chosen = data.zip(costs).mapPartitionsWithIndex { (index, pointCosts) =>\n",
    "              // Select the points that satisfy the probability condition\n",
    "                val rand = new XORShiftRandom(seed ^ (step << 16) ^ index)\n",
    "               //sumCosts represents the total cost value under each runs parameter that was previously aggregated by aggregate.\n",
    "                pointCosts.filter { case (_, c) => rand.nextDouble() < 2.0 * c * k / sumCosts }.map(_._1)\n",
    "              }.collect()\n",
    "          newCenters = chosen.map(_.toDense)\n",
    "          centers ++= newCenters\n",
    "          step += 1\n",
    "          }\n",
    "\n",
    "### countByValue at KMeans：\n",
    "          // Finally, we may have a set of more than k different candidate centers\n",
    "          val bcCenters = data.context.broadcast(distinctCenters)\n",
    "          val countMap = data\n",
    "            .map(distanceMeasureInstance.findClosest(bcCenters.value, _)._1)\n",
    "            .countByValue()\n",
    "\n",
    "          bcCenters.destroy()\n",
    "          // weight each candidate center according to the number of points mapped to it in the dataset\n",
    "          val myWeights = distinctCenters.indices.map(countMap.getOrElse(_, 0L).toDouble).toArray\n",
    "          // run a local k-means++ on the weighted centers to select the k of them.\n",
    "          LocalKMeans.kMeansPlusPlus(0, distinctCenters, myWeights, k, 30)\n",
    "### collectAsMap at KMeans：\n",
    "           // Find the nearest cluster center by the current cluster center.\n",
    "          // findClosest is for calculating bestDistance.\n",
    "          val (bestCenter, cost) = distanceMeasureInstance.findClosest(centers, stats, point)\n",
    "          // doubleAccumulator\n",
    "          costAccum.add(cost * point.weight)\n",
    "          //sums represents the center point sample summation value.\n",
    "          distanceMeasureInstance.updateClusterSum(point, sums(bestCenter))\n",
    "          clusterWeightSum(bestCenter) += point.weight"
   ]
  }
 ],
 "metadata": {
  "kernelspec": {
   "display_name": "Python 3",
   "language": "python",
   "name": "python3"
  },
  "language_info": {
   "codemirror_mode": {
    "name": "ipython",
    "version": 3
   },
   "file_extension": ".py",
   "mimetype": "text/x-python",
   "name": "python",
   "nbconvert_exporter": "python",
   "pygments_lexer": "ipython3",
   "version": "3.8.2"
  }
 },
 "nbformat": 4,
 "nbformat_minor": 4
}
